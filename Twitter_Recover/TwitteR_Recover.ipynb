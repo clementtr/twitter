{
 "cells": [
  {
   "cell_type": "markdown",
   "metadata": {},
   "source": [
    "<p><font size=5 color=\"#210F6E\"><em><u><center>Data recover on Twitter</center></u></em></font><p>\n",
    "<br>\n",
    "<font face=\"Gill Sans\" color=\"#261D7A\" size=\"3.2\">First we created an application on dev.twitter called 'TwitterR ESME'</font>"
   ]
  },
  {
   "cell_type": "code",
   "execution_count": 11,
   "metadata": {
    "collapsed": false
   },
   "outputs": [
    {
     "name": "stdout",
     "output_type": "stream",
     "text": [
      "[1] \"Using direct authentication\"\n"
     ]
    }
   ],
   "source": [
    "#install.packages(\"twitteR\")\n",
    "library(twitteR)\n",
    "\n",
    "setwd(\"/Users/clementtailleur/R/ESME/TwitteR\")\n",
    "\n",
    "# Create application on dev.twitter.com called 'TwitteR ESME'\n",
    "api_key <- \"QWvyjcma0R6JC2tsdcfrFOzxM\"\n",
    "api_secret <- \"uQ2pKwlaNU89GlhxZ2j4GEpoHs72ZvhNnzSDTV1Fy4inzqer4T\"\n",
    "access_token <- \"1643689316-sCnLf9J7aUse8HNG9bMi2MX5XG2fMbte0eHzqot\"\n",
    "access_token_secret <- \"aFJhot2jA1MCUwbMog0UeVdlO6YVv20SzqIpQ8ooUBqwd\"\n",
    "setup_twitter_oauth(api_key,api_secret,access_token,access_token_secret)"
   ]
  },
  {
   "cell_type": "markdown",
   "metadata": {},
   "source": [
    "<font face=\"Gill Sans\" color=\"#261D7A\" size=\"3.2\">Just to become familiar with twitteR, I decided to recover the last 20 tweets of one of my favorite twitter account and display only the last 10.</font>"
   ]
  },
  {
   "cell_type": "code",
   "execution_count": 12,
   "metadata": {
    "collapsed": false
   },
   "outputs": [
    {
     "name": "stdout",
     "output_type": "stream",
     "text": [
      "Full size: 20"
     ]
    },
    {
     "data": {
      "text/plain": [
       "[[1]]\n",
       "[1] \"WinamaxSport: Le règlement intérieur de l'OM a changé depuis l'arrivée de Patrice Evra. https://t.co/aE0fJxv5zT\"\n",
       "\n",
       "[[2]]\n",
       "[1] \"WinamaxSport: Federer efface une balle de break dans le quatrième set &gt; https://t.co/9vA5eM3o56 #AusOpen https://t.co/nTk7NRcTIt\"\n",
       "\n",
       "[[3]]\n",
       "[1] \"WinamaxSport: @PronoSez on blaguait ;) mais pas de freebet de consolation, désolé.\"\n",
       "\n",
       "[[4]]\n",
       "[1] \"WinamaxSport: @PronoSez en même temps tu paries sur le rugby et le hand alors que ta bio précise \\\"expert basket et tennis\\\"...\"\n",
       "\n",
       "[[5]]\n",
       "[1] \"WinamaxSport: 2024. Après l'échec des négociations avec Jonas Lunago (River Plate), Jérémy Morel, 40 ans, est toujours l'arrière gauche titulaire de l'OL.\"\n",
       "\n",
       "[[6]]\n",
       "[1] \"WinamaxSport: On vous file des sacs et des pochettes George Best... à condition de réussir ce test de footballémie. \\nhttps://t.co/NlUx8b9hcF\"\n",
       "\n",
       "[[7]]\n",
       "[1] \"WinamaxSport: @iNKEDBOY54 quel est ton pseudo ? Tu n'as qu'un seul retrait en cours ?\"\n",
       "\n",
       "[[8]]\n",
       "[1] \"WinamaxSport: Vous ne savez pas sur quoi mettre un billet pour vibrer ? On vous guide !  #TopFive https://t.co/DiEyoY9Mi8\"\n",
       "\n",
       "[[9]]\n",
       "[1] \"WinamaxSport: @Skydiwe Oui ! Quel est ton pseudo Winamax stp ?\"\n",
       "\n",
       "[[10]]\n",
       "[1] \"WinamaxSport: @jltourre Par contre, pourquoi 85 centimes ? La baguette oubliée ce matin ?\"\n"
      ]
     },
     "metadata": {},
     "output_type": "display_data"
    }
   ],
   "source": [
    "Winamax_tweets <- userTimeline(user = \"@WinamaxSport\",\n",
    " n = 20, includeRts = FALSE, retryOnRateLimit = 25)\n",
    "\n",
    "cat(\"Full size:\", length(Winamax_tweets))\n",
    "head(Winamax_tweets, 10)"
   ]
  },
  {
   "cell_type": "markdown",
   "metadata": {},
   "source": [
    "<font face=\"Gill Sans\" color=\"#261D7A\" size=\"3.2\">Now we can get a number n tweets containing the value of string placed in first argument. Note that the Twitter search API only goes back 1500 tweets <br>\n",
    "Let's recover 10.000 and 20.000 tweets with the '#PrimaireLeDébat' word and create a dataframe based around results.\n",
    "</font>"
   ]
  },
  {
   "cell_type": "code",
   "execution_count": 15,
   "metadata": {
    "collapsed": false
   },
   "outputs": [
    {
     "name": "stdout",
     "output_type": "stream",
     "text": [
      "Columns names:\n",
      " text favorited favoriteCount replyToSN created truncated replyToSID id replyToUID statusSource screenName retweetCount isRetweet retweeted longitude latitude\n",
      "\n",
      "\n",
      "Part of your dataframe:"
     ]
    },
    {
     "data": {
      "text/html": [
       "<table>\n",
       "<thead><tr><th scope=col>text</th><th scope=col>favorited</th><th scope=col>favoriteCount</th><th scope=col>replyToSN</th><th scope=col>created</th><th scope=col>truncated</th><th scope=col>replyToSID</th><th scope=col>id</th><th scope=col>replyToUID</th><th scope=col>statusSource</th><th scope=col>screenName</th><th scope=col>retweetCount</th><th scope=col>isRetweet</th><th scope=col>retweeted</th><th scope=col>longitude</th><th scope=col>latitude</th></tr></thead>\n",
       "<tbody>\n",
       "\t<tr><td>RT @benoithamon: #PrimaireLeDebat Prévention des maladies chroniques, sport-santé, lutte contre la pollution : voilà des sources d'économie…</td><td>FALSE                                                                                                                                       </td><td>0                                                                                                                                           </td><td>NA                                                                                                                                          </td><td>2017-01-26 11:29:56                                                                                                                         </td><td>FALSE                                                                                                                                       </td><td>NA                                                                                                                                          </td><td>824580124314075136                                                                                                                          </td><td>NA                                                                                                                                          </td><td><span style=white-space:pre-wrap>&lt;a href=\"http://twitter.com\" rel=\"nofollow\"&gt;Twitter Web Client&lt;/a&gt;                  </span>    </td><td><span style=white-space:pre-wrap>touanan   </span>                                                                                          </td><td>528                                                                                                                                         </td><td> TRUE                                                                                                                                       </td><td>FALSE                                                                                                                                       </td><td>NA                                                                                                                                          </td><td>NA                                                                                                                                          </td></tr>\n",
       "\t<tr><td><span style=white-space:pre-wrap>RT @tomvampouille: Le Drian dort déjà #PrimaireLeDébat https://t.co/I1f9YJgYMX                                                              </span></td><td>FALSE                                                                                                                                                                               </td><td>0                                                                                                                                                                                   </td><td>NA                                                                                                                                                                                  </td><td>2017-01-26 11:29:49                                                                                                                                                                 </td><td>FALSE                                                                                                                                                                               </td><td>NA                                                                                                                                                                                  </td><td>824580096237404160                                                                                                                                                                  </td><td>NA                                                                                                                                                                                  </td><td>&lt;a href=\"http://twitter.com/download/android\" rel=\"nofollow\"&gt;Twitter for Android&lt;/a&gt;                                                                                    </td><td>Martin5667                                                                                                                                                                          </td><td>180                                                                                                                                                                                 </td><td> TRUE                                                                                                                                                                               </td><td>FALSE                                                                                                                                                                               </td><td>NA                                                                                                                                                                                  </td><td>NA                                                                                                                                                                                  </td></tr>\n",
       "\t<tr><td><span style=white-space:pre-wrap>Primaire à gauche, les programmes santé des candidats  https://t.co/sqxYvnwlwI #sante #PrimairesGauche #PrimaireLeDebat                     </span></td><td>FALSE                                                                                                                                                                               </td><td>0                                                                                                                                                                                   </td><td>NA                                                                                                                                                                                  </td><td>2017-01-26 11:29:44                                                                                                                                                                 </td><td>FALSE                                                                                                                                                                               </td><td>NA                                                                                                                                                                                  </td><td>824580072954888192                                                                                                                                                                  </td><td>NA                                                                                                                                                                                  </td><td><span style=white-space:pre-wrap>&lt;a href=\"http://twitter.com/download/iphone\" rel=\"nofollow\"&gt;Twitter for iPhone&lt;/a&gt;  </span>                                            </td><td><span style=white-space:pre-wrap>Solusteo  </span>                                                                                                                                  </td><td><span style=white-space:pre-wrap>  0</span>                                                                                                                                         </td><td>FALSE                                                                                                                                                                               </td><td>FALSE                                                                                                                                                                               </td><td>NA                                                                                                                                                                                  </td><td>NA                                                                                                                                                                                  </td></tr>\n",
       "</tbody>\n",
       "</table>\n"
      ],
      "text/latex": [
       "\\begin{tabular}{r|llllllllllllllll}\n",
       " text & favorited & favoriteCount & replyToSN & created & truncated & replyToSID & id & replyToUID & statusSource & screenName & retweetCount & isRetweet & retweeted & longitude & latitude\\\\\n",
       "\\hline\n",
       "\t RT @benoithamon: \\#PrimaireLeDebat Prévention des maladies chroniques, sport-santé, lutte contre la pollution : voilà des sources d'économie… & FALSE                                                                                                                                          & 0                                                                                                                                              & NA                                                                                                                                             & 2017-01-26 11:29:56                                                                                                                            & FALSE                                                                                                                                          & NA                                                                                                                                             & 824580124314075136                                                                                                                             & NA                                                                                                                                             & <a href=\"http://twitter.com\" rel=\"nofollow\">Twitter Web Client</a>                                                                             & touanan                                                                                                                                        & 528                                                                                                                                            &  TRUE                                                                                                                                          & FALSE                                                                                                                                          & NA                                                                                                                                             & NA                                                                                                                                            \\\\\n",
       "\t RT @tomvampouille: Le Drian dort déjà \\#PrimaireLeDébat https://t.co/I1f9YJgYMX                                                               & FALSE                                                                                                                                          & 0                                                                                                                                              & NA                                                                                                                                             & 2017-01-26 11:29:49                                                                                                                            & FALSE                                                                                                                                          & NA                                                                                                                                             & 824580096237404160                                                                                                                             & NA                                                                                                                                             & <a href=\"http://twitter.com/download/android\" rel=\"nofollow\">Twitter for Android</a>                                                           & Martin5667                                                                                                                                     & 180                                                                                                                                            &  TRUE                                                                                                                                          & FALSE                                                                                                                                          & NA                                                                                                                                             & NA                                                                                                                                            \\\\\n",
       "\t Primaire à gauche, les programmes santé des candidats  https://t.co/sqxYvnwlwI \\#sante \\#PrimairesGauche \\#PrimaireLeDebat                      & FALSE                                                                                                                                              & 0                                                                                                                                                  & NA                                                                                                                                                 & 2017-01-26 11:29:44                                                                                                                                & FALSE                                                                                                                                              & NA                                                                                                                                                 & 824580072954888192                                                                                                                                 & NA                                                                                                                                                 & <a href=\"http://twitter.com/download/iphone\" rel=\"nofollow\">Twitter for iPhone</a>                                                                 & Solusteo                                                                                                                                           &   0                                                                                                                                                & FALSE                                                                                                                                              & FALSE                                                                                                                                              & NA                                                                                                                                                 & NA                                                                                                                                                \\\\\n",
       "\\end{tabular}\n"
      ],
      "text/markdown": [
       "\n",
       "text | favorited | favoriteCount | replyToSN | created | truncated | replyToSID | id | replyToUID | statusSource | screenName | retweetCount | isRetweet | retweeted | longitude | latitude | \n",
       "|---|---|---|\n",
       "| RT @benoithamon: #PrimaireLeDebat Prévention des maladies chroniques, sport-santé, lutte contre la pollution : voilà des sources d'économie… | FALSE                                                                                                                                        | 0                                                                                                                                            | NA                                                                                                                                           | 2017-01-26 11:29:56                                                                                                                          | FALSE                                                                                                                                        | NA                                                                                                                                           | 824580124314075136                                                                                                                           | NA                                                                                                                                           | <a href=\"http://twitter.com\" rel=\"nofollow\">Twitter Web Client</a>                                                                           | touanan                                                                                                                                      | 528                                                                                                                                          |  TRUE                                                                                                                                        | FALSE                                                                                                                                        | NA                                                                                                                                           | NA                                                                                                                                           | \n",
       "| RT @tomvampouille: Le Drian dort déjà #PrimaireLeDébat https://t.co/I1f9YJgYMX                                                               | FALSE                                                                                                                                        | 0                                                                                                                                            | NA                                                                                                                                           | 2017-01-26 11:29:49                                                                                                                          | FALSE                                                                                                                                        | NA                                                                                                                                           | 824580096237404160                                                                                                                           | NA                                                                                                                                           | <a href=\"http://twitter.com/download/android\" rel=\"nofollow\">Twitter for Android</a>                                                         | Martin5667                                                                                                                                   | 180                                                                                                                                          |  TRUE                                                                                                                                        | FALSE                                                                                                                                        | NA                                                                                                                                           | NA                                                                                                                                           | \n",
       "| Primaire à gauche, les programmes santé des candidats  https://t.co/sqxYvnwlwI #sante #PrimairesGauche #PrimaireLeDebat                      | FALSE                                                                                                                                        | 0                                                                                                                                            | NA                                                                                                                                           | 2017-01-26 11:29:44                                                                                                                          | FALSE                                                                                                                                        | NA                                                                                                                                           | 824580072954888192                                                                                                                           | NA                                                                                                                                           | <a href=\"http://twitter.com/download/iphone\" rel=\"nofollow\">Twitter for iPhone</a>                                                           | Solusteo                                                                                                                                     |   0                                                                                                                                          | FALSE                                                                                                                                        | FALSE                                                                                                                                        | NA                                                                                                                                           | NA                                                                                                                                           | \n",
       "\n",
       "\n"
      ],
      "text/plain": [
       "  text                                                                                                                                        \n",
       "1 RT @benoithamon: #PrimaireLeDebat Prévention des maladies chroniques, sport-santé, lutte contre la pollution : voilà des sources d'économie…\n",
       "2 RT @tomvampouille: Le Drian dort déjà #PrimaireLeDébat https://t.co/I1f9YJgYMX                                                              \n",
       "3 Primaire à gauche, les programmes santé des candidats  https://t.co/sqxYvnwlwI #sante #PrimairesGauche #PrimaireLeDebat                     \n",
       "  favorited favoriteCount replyToSN created             truncated replyToSID\n",
       "1 FALSE     0             NA        2017-01-26 11:29:56 FALSE     NA        \n",
       "2 FALSE     0             NA        2017-01-26 11:29:49 FALSE     NA        \n",
       "3 FALSE     0             NA        2017-01-26 11:29:44 FALSE     NA        \n",
       "  id                 replyToUID\n",
       "1 824580124314075136 NA        \n",
       "2 824580096237404160 NA        \n",
       "3 824580072954888192 NA        \n",
       "  statusSource                                                                        \n",
       "1 <a href=\"http://twitter.com\" rel=\"nofollow\">Twitter Web Client</a>                  \n",
       "2 <a href=\"http://twitter.com/download/android\" rel=\"nofollow\">Twitter for Android</a>\n",
       "3 <a href=\"http://twitter.com/download/iphone\" rel=\"nofollow\">Twitter for iPhone</a>  \n",
       "  screenName retweetCount isRetweet retweeted longitude latitude\n",
       "1 touanan    528           TRUE     FALSE     NA        NA      \n",
       "2 Martin5667 180           TRUE     FALSE     NA        NA      \n",
       "3 Solusteo     0          FALSE     FALSE     NA        NA      "
      ]
     },
     "metadata": {},
     "output_type": "display_data"
    }
   ],
   "source": [
    "require(twitteR)\n",
    "#primaireTweets <- searchTwitter(\"#PrimaireLeDébat\", n=10000)\n",
    "primaireTweets <- searchTwitter(\"#PrimaireLeDébat\", n=10) # Display that for html but run line above for project\n",
    " \n",
    "primaire_df <- do.call(\"rbind\", lapply(primaireTweets, as.data.frame))\n",
    "cat(\"Columns names:\\n\", names(primaire_df))\n",
    "cat(\"\\n\\n\\nPart of your dataframe:\")\n",
    "head(primaire_df,3)"
   ]
  },
  {
   "cell_type": "markdown",
   "metadata": {},
   "source": [
    "<font face=\"Gill Sans\" color=\"#261D7A\" size=\"3.2\">We create a csv file from our database.\n",
    "</font>"
   ]
  },
  {
   "cell_type": "code",
   "execution_count": 17,
   "metadata": {
    "collapsed": false
   },
   "outputs": [
    {
     "data": {
      "text/html": [
       "10"
      ],
      "text/latex": [
       "10"
      ],
      "text/markdown": [
       "10"
      ],
      "text/plain": [
       "[1] 10"
      ]
     },
     "metadata": {},
     "output_type": "display_data"
    }
   ],
   "source": [
    "#write.csv(primaire_df, file = \"debat_primaire_10000.csv\", append=TRUE) #append=TRUE to overwrite\n",
    "#write.csv(primaire_df, file = \"debat_primaire_10000.csv\") \n",
    "#write.csv(primaire_df, file = \"debat_primaire_20000.csv\") Let lines in commentary to avoid the changement of our database \n",
    "nrow(primaire_df)"
   ]
  }
 ],
 "metadata": {
  "anaconda-cloud": {},
  "kernelspec": {
   "display_name": "R",
   "language": "R",
   "name": "ir"
  },
  "language_info": {
   "codemirror_mode": "r",
   "file_extension": ".r",
   "mimetype": "text/x-r-source",
   "name": "R",
   "pygments_lexer": "r",
   "version": "3.2.4"
  }
 },
 "nbformat": 4,
 "nbformat_minor": 1
}

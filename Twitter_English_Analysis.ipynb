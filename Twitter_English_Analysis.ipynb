{
 "cells": [
  {
   "cell_type": "markdown",
   "metadata": {
    "deletable": true,
    "editable": true
   },
   "source": [
    "<p><font size=5 color=\"#210F6E\"><em><u><center>Fast Data Analysis for English tweets</center></u></em></font><p>\n",
    "<br>\n",
    "<font face=\"Gill Sans\" color=\"#261D7A\" size=\"3.2\">As we did before with #PrimaireLeDébat tweets we recovered tweets having the hashtag #Lalaland in the TwitteR_Recover repository</font><br><br>\n",
    "<font color=\"#206B50\" size = 3><center>**DATA CLEANING**</center></font>"
   ]
  },
  {
   "cell_type": "code",
   "execution_count": null,
   "metadata": {
    "collapsed": false,
    "deletable": true,
    "editable": true
   },
   "outputs": [],
   "source": [
    "yourPath = paste0(getwd(),\"/data/Lalaland.csv\")\n",
    "\n",
    "tweets = read.csv(yourPath, encoding=\"UTF-8\")\n",
    "print(dim(tweets))\n",
    "\n",
    "tweets <- subset(tweets, select=-c(replyToSN,replyToUID, replyToSID, latitude, longitude, favorited))\n",
    "#head(tweets, n=5)"
   ]
  },
  {
   "cell_type": "code",
   "execution_count": null,
   "metadata": {
    "collapsed": false,
    "deletable": true,
    "editable": true
   },
   "outputs": [],
   "source": [
    "clean_text = function(x)\n",
    "{\n",
    "    #To convert the text in lowercase\n",
    "    try.error = function(z)\n",
    "    {\n",
    "        y = NA\n",
    "        try_error = tryCatch(tolower(z), error=function(e) e)\n",
    "            if (!inherits(try_error, \"error\"))\n",
    "                y = tolower(z)\n",
    "                return(y)\n",
    "    }\n",
    "            \n",
    "    x = sapply(x, try.error)\n",
    "            \n",
    "    #Replace Emma by Stone \n",
    "    x = gsub(\"emma\", \"stone\", x)\n",
    "    \n",
    "    #Delete unecessary #lalaland or lalaland       \n",
    "    x = gsub('\\\\S+lalaland\\\\S+', '', x)\n",
    "            \n",
    "     #remove all links starting by http\n",
    "    x = gsub('http\\\\S+\\\\s*', '', x)\n",
    "            \n",
    "    # replace apostrophes\n",
    "    x = gsub(\"'\", \" \", x)\n",
    "\n",
    "    # remove punctuation except @, #, _, -\n",
    "    x = gsub(\"@\", \"AAAAAAAAAAA\", x)\n",
    "    x = gsub(\"#\", \"BBBBBBBBBBB\", x)\n",
    "    x = gsub(\"_\", \"CCCCCCCCCCC\", x)\n",
    "    x = gsub(\"-\", \"DDDDDDDDDDD\", x)\n",
    "    x = gsub(\"[[:punct:]]\", \" \", x)\n",
    "    x = gsub(\"AAAAAAAAAAA\", \"@\", x)\n",
    "    x = gsub(\"BBBBBBBBBBB\", \"#\", x)\n",
    "    x = gsub(\"CCCCCCCCCCC\", \"_\", x)\n",
    "    x = gsub(\"DDDDDDDDDDD\", \"-\", x)\n",
    "            \n",
    "    # correcting the spaces after the conserved @\n",
    "    x = gsub(\"@ \", \"@\", x)\n",
    "            \n",
    "    # correcting the spaces after the conserved _\n",
    "    x = gsub(\"_ \", \"_\", x)\n",
    "            \n",
    "    # correcting the spaces after the conserved -\n",
    "    x = gsub(\"- \", \"-\", x)\n",
    "    \n",
    "    # remove numbers/Digits\n",
    "    x = gsub(\"[[:digit:]]\", \"\", x)\n",
    "    \n",
    "    # remove tabs\n",
    "    x = gsub(\"[ |\\t]{2,}\", \" \", x)\n",
    "            \n",
    "    # remove blank spaces at the beginning/end\n",
    "    x = gsub(\"^ \", \"\", x)  \n",
    "    x = gsub(\" $\", \"\", x)\n",
    "    x = gsub(\"'\", \"\", x)    \n",
    "    \n",
    "    # As we have already a column indicating if the tweet is a retweet or not \n",
    "    # we can remove \"RT @xxx\" in the tweet header\n",
    "    x = gsub(\"rt @\\\\w+ *\", \"\", x)\n",
    "    x = gsub('\\\\b\\\\w{1,3}\\\\s','', x)\n",
    "            \n",
    "    # remove double spaces\n",
    "    x = gsub(\"  \", \" \", x)\n",
    "    x = gsub(\"  \", \" \", x)\n",
    "    return(x)\n",
    "}\n",
    "                             \n",
    "tweets$text <- clean_text(tweets$text)\n",
    "head(tweets)"
   ]
  },
  {
   "cell_type": "code",
   "execution_count": null,
   "metadata": {
    "collapsed": false,
    "deletable": true,
    "editable": true
   },
   "outputs": [],
   "source": [
    "sum(is.na(tweets$text))"
   ]
  },
  {
   "cell_type": "code",
   "execution_count": null,
   "metadata": {
    "collapsed": false,
    "deletable": true,
    "editable": true
   },
   "outputs": [],
   "source": [
    "tweets = na.omit(tweets)\n",
    "tweets$X <- NULL\n",
    "nrow(tweets)"
   ]
  },
  {
   "cell_type": "code",
   "execution_count": null,
   "metadata": {
    "collapsed": false,
    "deletable": true,
    "editable": true
   },
   "outputs": [],
   "source": [
    "col = tweets$text\n",
    "at.pattern = \"@\\\\w+ *\"\n",
    "have.at = grep(x = col, pattern = at.pattern)\n",
    "at.matches = gregexpr(pattern = at.pattern,\n",
    "                        text = col[have.at])\n",
    "extracted.at = regmatches(x = col[have.at], m = at.matches)\n",
    "\n",
    "# most frequent words\n",
    "mfw = sort(unlist(extracted.at), decreasing=TRUE)\n",
    "mfw = gsub(\" \", \"\", mfw)\n",
    "top40_user_called = sort(table(unlist(mfw)), decreasing=TRUE)\n",
    "head(top40_user_called, n = 40)"
   ]
  },
  {
   "cell_type": "code",
   "execution_count": null,
   "metadata": {
    "collapsed": false,
    "deletable": true,
    "editable": true
   },
   "outputs": [],
   "source": [
    "top5 = head(top40_user_called, n = 5)\n",
    "barplot(sort(top5), border=NA, las=2, main=\"Top 5 most frequent user acount\", cex.main=1, horiz=TRUE, col= \"darkblue\", cex.names=0.5)"
   ]
  },
  {
   "cell_type": "code",
   "execution_count": null,
   "metadata": {
    "collapsed": false,
    "deletable": true,
    "editable": true
   },
   "outputs": [],
   "source": [
    "at.pattern = \"[a-zA-Z]\\\\w+ *\"\n",
    "have.at = grep(x = col, pattern = at.pattern)\n",
    "at.matches = gregexpr(pattern = at.pattern,\n",
    "                        text = col[have.at])\n",
    "extracted.at = regmatches(x = col[have.at], m = at.matches)\n",
    "\n",
    "# most frequent words\n",
    "mfw = sort(unlist(extracted.at), decreasing=TRUE)\n",
    "mfw = gsub(\" \", \"\", mfw)\n",
    "w = sort(table(unlist(mfw)), decreasing=TRUE)\n",
    "\n",
    "number_Top = function(number){\n",
    "  topWord = head(w, n = number)\n",
    "  topWord = sort(topWord, decreasing=FALSE) \n",
    "  return(topWord)\n",
    "}\n",
    "\n",
    "top15 = number_Top(15)\n",
    "barplot(top15, border=NA, las=2, main=\"Top 15 most frequent word\", cex.main=1, horiz=TRUE, col= \"darkblue\", cex.names=0.6)"
   ]
  },
  {
   "cell_type": "markdown",
   "metadata": {
    "deletable": true,
    "editable": true
   },
   "source": [
    "<font color=\"#206B50\" size = 3><center>**SENTIMENT ANALYSIS**</center></font>"
   ]
  },
  {
   "cell_type": "code",
   "execution_count": null,
   "metadata": {
    "collapsed": false,
    "deletable": true,
    "editable": true
   },
   "outputs": [],
   "source": [
    "#install.packages(\"RSentiment\") #Requiered Java \n",
    "library(RSentiment)\n",
    "\n",
    "tweets$score = 0\n",
    "for (i in 1:nrow(tweets)){\n",
    " tweets$score[i] = sum(calculate_score(tweets$text[i]))   \n",
    "}\n",
    "\n",
    "head(tweets)"
   ]
  },
  {
   "cell_type": "code",
   "execution_count": null,
   "metadata": {
    "collapsed": false,
    "deletable": true,
    "editable": true
   },
   "outputs": [],
   "source": [
    "#install.packages(\"plyr\")\n",
    "library(plyr)\n",
    "\n",
    "Global_Lalaland_Sentiment = calculate_total_presence_sentiment(tweets$text)\n",
    "Global_Lalaland_Sentiment\n",
    "Global_Lalaland_Sentiment = data.frame(t(Global_Lalaland_Sentiment))\n",
    "Global_Lalaland_Sentiment = rename(Global_Lalaland_Sentiment, c(\"X1\"=\"Emotions\", \"X2\"=\"Score\"))\n",
    "Global_Lalaland_Sentiment\n",
    "\n",
    "barplot(as.numeric(Global_Lalaland_Sentiment$Score), names = Global_Lalaland_Sentiment$Emotions, cex.names= 0.65,\n",
    "  xlab = \"feelings\", ylab = \"Number of tweets having specific emotion\", col = \"darkblue\",\n",
    "  main=\"Emotions in Lalaland tweets\")"
   ]
  },
  {
   "cell_type": "code",
   "execution_count": null,
   "metadata": {
    "collapsed": false,
    "deletable": true,
    "editable": true
   },
   "outputs": [],
   "source": [
    "#install.packages(\"syuzhet\")\n",
    "library(syuzhet)\n",
    "\n",
    "tweets$anger = 0\n",
    "tweets$anticipation = 0\n",
    "tweets$disgust = 0\n",
    "tweets$fear = 0\n",
    "tweets$joy = 0\n",
    "tweets$sadness = 0\n",
    "tweets$surprise = 0\n",
    "tweets$trust = 0\n",
    "tweets$negative = 0\n",
    "tweets$positive = 0\n",
    "\n",
    "for(i in 1:nrow(tweets)){\n",
    "  if(get_nrc_sentiment(tweets$text[i])$anger > 0){\n",
    "    tweets$anger[i] = 1\n",
    "  }\n",
    "  if(get_nrc_sentiment(tweets$text[i])$anticipation > 0){\n",
    "    tweets$anticipation[i] = 1\n",
    "  } \n",
    "  if(get_nrc_sentiment(tweets$text[i])$disgust > 0){\n",
    "    tweets$disgust[i] = 1\n",
    "  }\n",
    "  if(get_nrc_sentiment(tweets$text[i])$fear > 0){\n",
    "    tweets$fear[i] = 1\n",
    "  } \n",
    "  if(get_nrc_sentiment(tweets$text[i])$joy > 0){\n",
    "    tweets$joy[i] = 1\n",
    "  } \n",
    "  if(get_nrc_sentiment(tweets$text[i])$sadness > 0){\n",
    "    tweets$sadness[i] = 1\n",
    "  } \n",
    "  if(get_nrc_sentiment(tweets$text[i])$surprise > 0){\n",
    "    tweets$surprise[i] = 1\n",
    "  } \n",
    "  if(get_nrc_sentiment(tweets$text[i])$trust > 0){\n",
    "    tweets$trust[i] = 1\n",
    "  }\n",
    "  if(get_nrc_sentiment(tweets$text[i])$negative > 0){\n",
    "    tweets$negative[i] = 1\n",
    "  } \n",
    "  if(get_nrc_sentiment(tweets$text[i])$positive > 0){\n",
    "    tweets$positive[i] = 1\n",
    "  } \n",
    "}"
   ]
  },
  {
   "cell_type": "code",
   "execution_count": null,
   "metadata": {
    "collapsed": false,
    "deletable": true,
    "editable": true
   },
   "outputs": [],
   "source": [
    "sum_anger = sum(tweets$anger)\n",
    "sum_anticipation = sum(tweets$anticipation)\n",
    "sum_disgust = sum(tweets$disgust)\n",
    "sum_fear = sum(tweets$fear)\n",
    "sum_joy = sum(tweets$joy)\n",
    "sum_sadness = sum(tweets$sadness)\n",
    "sum_surprise = sum(tweets$surprise)\n",
    "sum_trust = sum(tweets$trust)\n",
    "sum_negative = sum(tweets$negative)\n",
    "sum_positive = sum(tweets$positive)\n",
    "\n",
    "sum_feelings_names = c(\"anger\", \"anticipation\", \"disgust\", \n",
    "                       \"fear\", \"joy\", \"sadness\", \"surprise\",\n",
    "                      \"trust\", \"negative\", \"positive\")\n",
    "sum_feelings = c(sum_anger, sum_anticipation, sum_disgust, \n",
    "                 sum_fear, sum_joy, sum_sadness, sum_surprise, \n",
    "                 sum_trust, sum_negative, sum_positive)\n",
    "\n",
    "df_feelings = data.frame(sum_feelings_names, sum_feelings)\n",
    "df_feelings"
   ]
  },
  {
   "cell_type": "code",
   "execution_count": null,
   "metadata": {
    "collapsed": false,
    "deletable": true,
    "editable": true
   },
   "outputs": [],
   "source": [
    "barplot(df_feelings$sum_feelings, names = df_feelings$sum_feelings_names, cex.names= 0.65,\n",
    "  xlab = \"feelings\", ylab = \"Number of tweets having specific emotion\", col = \"darkblue\",\n",
    "  main=\"Emotions in Lalaland tweets\")"
   ]
  },
  {
   "cell_type": "code",
   "execution_count": null,
   "metadata": {
    "collapsed": false,
    "deletable": true,
    "editable": true
   },
   "outputs": [],
   "source": [
    "#install.packages(\"wordcloud\")\n",
    "#install.packages(\"SnowballC\")\n",
    "library(SnowballC)\n",
    "library(wordcloud)\n",
    "\n",
    "top50 = number_Top(50)\n",
    "wordcloud(names(top50), top50, min.freq=2)"
   ]
  },
  {
   "cell_type": "code",
   "execution_count": null,
   "metadata": {
    "collapsed": false,
    "deletable": true,
    "editable": true
   },
   "outputs": [],
   "source": [
    "#require(devtools)\n",
    "#install_github(\"lchiffon/wordcloud2\")\n",
    "library(wordcloud2)\n",
    "\n",
    "top100 = number_Top(100)\n",
    "cat(\"The letterCloud function does not work on Jupyter notebook, if you are using markdown, you can uncomment this line.\")\n",
    "#letterCloud(top100, word = \"PS\", wordSize = 1)"
   ]
  }
 ],
 "metadata": {
  "anaconda-cloud": {},
  "kernelspec": {
   "display_name": "R 3.3",
   "language": "R",
   "name": "ir33"
  },
  "language_info": {
   "codemirror_mode": "r",
   "file_extension": ".r",
   "mimetype": "text/x-r-source",
   "name": "R",
   "pygments_lexer": "r",
   "version": "3.3.2"
  }
 },
 "nbformat": 4,
 "nbformat_minor": 1
}

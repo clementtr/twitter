{
 "cells": [
  {
   "cell_type": "markdown",
   "metadata": {},
   "source": [
    "# Data Processing notebook.\n",
    "#### We are here aiming to manipulate the data that we generated before.\n",
    "#### It will be separated in 6 steps:\n",
    "1. Data cleaning\n",
    "2. Provide a list of the 15 most common words\n",
    "3. Provide a list of the 2 pairs of words having the highest co-occurrence frequency\n",
    "4. Build a graphical representation of the most frequent words with their polarity (pos/neg or anger/joy/fear/...)\n",
    "5. Indicate the 3 most frequent representatives words in each category\n",
    "6. Compare the results of the two approaches"
   ]
  },
  {
   "cell_type": "markdown",
   "metadata": {},
   "source": [
    "# 1. Data Cleaning\n",
    "#### Here, we will clean the dataset in order to analyze it"
   ]
  },
  {
   "cell_type": "markdown",
   "metadata": {},
   "source": [
    "First things first, let's import the csv file"
   ]
  },
  {
   "cell_type": "code",
   "execution_count": 206,
   "metadata": {
    "collapsed": true
   },
   "outputs": [],
   "source": [
    "tweets = read.csv(\"data/debat_primaire_20000.csv\")"
   ]
  },
  {
   "cell_type": "code",
   "execution_count": 207,
   "metadata": {
    "collapsed": false
   },
   "outputs": [
    {
     "data": {
      "text/html": [
       "<ol class=list-inline>\n",
       "\t<li>20000</li>\n",
       "\t<li>17</li>\n",
       "</ol>\n"
      ],
      "text/latex": [
       "\\begin{enumerate*}\n",
       "\\item 20000\n",
       "\\item 17\n",
       "\\end{enumerate*}\n"
      ],
      "text/markdown": [
       "1. 20000\n",
       "2. 17\n",
       "\n",
       "\n"
      ],
      "text/plain": [
       "[1] 20000    17"
      ]
     },
     "metadata": {},
     "output_type": "display_data"
    }
   ],
   "source": [
    "dim(tweets)"
   ]
  },
  {
   "cell_type": "markdown",
   "metadata": {},
   "source": [
    "So our data frame contains 17 columns and 20 000 rows, let's see the 10 firsts rows"
   ]
  },
  {
   "cell_type": "code",
   "execution_count": 208,
   "metadata": {
    "collapsed": false
   },
   "outputs": [
    {
     "data": {
      "text/html": [
       "<table>\n",
       "<thead><tr><th scope=col>X</th><th scope=col>text</th><th scope=col>favorited</th><th scope=col>favoriteCount</th><th scope=col>replyToSN</th><th scope=col>created</th><th scope=col>truncated</th><th scope=col>replyToSID</th><th scope=col>id</th><th scope=col>replyToUID</th><th scope=col>statusSource</th><th scope=col>screenName</th><th scope=col>retweetCount</th><th scope=col>isRetweet</th><th scope=col>retweeted</th><th scope=col>longitude</th><th scope=col>latitude</th></tr></thead>\n",
       "<tbody>\n",
       "\t<tr><td> 1                                                                                                                                                                                    </td><td><span style=white-space:pre-wrap>Ce fut un débat intéressnt ! Ccl :Il y'a encore de l'espoir!N'oublions pas qu'un bon président est un président engagé ! #PrimaireLeDebat     </span></td><td>FALSE                                                                                                                                                                                 </td><td>0                                                                                                                                                                                     </td><td>NA                                                                                                                                                                                    </td><td>2017-01-19 22:50:06                                                                                                                                                                   </td><td>FALSE                                                                                                                                                                                 </td><td>NA                                                                                                                                                                                    </td><td>8.222146e+17                                                                                                                                                                          </td><td>NA                                                                                                                                                                                    </td><td><span style=white-space:pre-wrap>&lt;a href=\"http://twitter.com/download/iphone\" rel=\"nofollow\"&gt;Twitter for iPhone&lt;/a&gt;  </span>                                              </td><td><span style=white-space:pre-wrap>OuAtas        </span>                                                                                                                                </td><td><span style=white-space:pre-wrap>  0</span>                                                                                                                                           </td><td>FALSE                                                                                                                                                                                 </td><td>FALSE                                                                                                                                                                                 </td><td>NA                                                                                                                                                                                    </td><td>NA                                                                                                                                                                                    </td></tr>\n",
       "\t<tr><td> 2                                                                                                                                                                                    </td><td><span style=white-space:pre-wrap>C'est bon @GoogleFR @TwitterFrance avez vous bien collectés mes données ? Bonne nuit #numerique #bigdata #PrimaireLeDébat                     </span></td><td>FALSE                                                                                                                                                                                 </td><td>0                                                                                                                                                                                     </td><td>NA                                                                                                                                                                                    </td><td>2017-01-19 22:50:06                                                                                                                                                                   </td><td>FALSE                                                                                                                                                                                 </td><td>NA                                                                                                                                                                                    </td><td>8.222146e+17                                                                                                                                                                          </td><td>NA                                                                                                                                                                                    </td><td><span style=white-space:pre-wrap>&lt;a href=\"http://twitter.com\" rel=\"nofollow\"&gt;Twitter Web Client&lt;/a&gt;                  </span>                                              </td><td><span style=white-space:pre-wrap>WajdiHA2      </span>                                                                                                                                </td><td><span style=white-space:pre-wrap>  0</span>                                                                                                                                           </td><td>FALSE                                                                                                                                                                                 </td><td>FALSE                                                                                                                                                                                 </td><td>NA                                                                                                                                                                                    </td><td>NA                                                                                                                                                                                    </td></tr>\n",
       "\t<tr><td> 3                                                                                                                                                                                    </td><td><span style=white-space:pre-wrap>RT @DeLuca_Patrice: .@manuelvalls \"Je veux incarner l'espérance, venez voter dimanche!\" #AvecValls #PrimaireLeDebat                           </span></td><td>FALSE                                                                                                                                                                                 </td><td>0                                                                                                                                                                                     </td><td>NA                                                                                                                                                                                    </td><td>2017-01-19 22:50:06                                                                                                                                                                   </td><td>FALSE                                                                                                                                                                                 </td><td>NA                                                                                                                                                                                    </td><td>8.222146e+17                                                                                                                                                                          </td><td>NA                                                                                                                                                                                    </td><td><span style=white-space:pre-wrap>&lt;a href=\"http://www.twitter.com\" rel=\"nofollow\"&gt;Twitter for Windows&lt;/a&gt;             </span>                                              </td><td>ProvenceValls                                                                                                                                                                         </td><td><span style=white-space:pre-wrap>  5</span>                                                                                                                                           </td><td> TRUE                                                                                                                                                                                 </td><td>FALSE                                                                                                                                                                                 </td><td>NA                                                                                                                                                                                    </td><td>NA                                                                                                                                                                                    </td></tr>\n",
       "\t<tr><td> 4                                                                                                                                                                                    </td><td><span style=white-space:pre-wrap>RT @DeLuca_Patrice: .@manuelvalls \"Nous avons besoin d'une Europe forte et unie\" #AvecValls #PrimaireLeDebat #Valls2017                       </span></td><td>FALSE                                                                                                                                                                                 </td><td>0                                                                                                                                                                                     </td><td>NA                                                                                                                                                                                    </td><td>2017-01-19 22:50:05                                                                                                                                                                   </td><td>FALSE                                                                                                                                                                                 </td><td>NA                                                                                                                                                                                    </td><td>8.222146e+17                                                                                                                                                                          </td><td>NA                                                                                                                                                                                    </td><td><span style=white-space:pre-wrap>&lt;a href=\"http://twitter.com\" rel=\"nofollow\"&gt;Twitter Web Client&lt;/a&gt;                  </span>                                              </td><td><span style=white-space:pre-wrap>Jojo29_BZH    </span>                                                                                                                                </td><td> 10                                                                                                                                                                                   </td><td> TRUE                                                                                                                                                                                 </td><td>FALSE                                                                                                                                                                                 </td><td>NA                                                                                                                                                                                    </td><td>NA                                                                                                                                                                                    </td></tr>\n",
       "\t<tr><td> 5                                                                                                                                                                                    </td><td><span style=white-space:pre-wrap>RT @LPF_Paris18: #PrimaireLeDebat Dis donc @manuelvalls c'est à coup de #decheancedenationalite et de #49Al3 que tu penses nous sauver? #Mo…  </span></td><td>FALSE                                                                                                                                                                                 </td><td>0                                                                                                                                                                                     </td><td>NA                                                                                                                                                                                    </td><td>2017-01-19 22:50:05                                                                                                                                                                   </td><td>FALSE                                                                                                                                                                                 </td><td>NA                                                                                                                                                                                    </td><td>8.222146e+17                                                                                                                                                                          </td><td>NA                                                                                                                                                                                    </td><td>&lt;a href=\"http://twitter.com/download/android\" rel=\"nofollow\"&gt;Twitter for Android&lt;/a&gt;                                                                                      </td><td>FranceCredible                                                                                                                                                                        </td><td><span style=white-space:pre-wrap>  6</span>                                                                                                                                           </td><td> TRUE                                                                                                                                                                                 </td><td>FALSE                                                                                                                                                                                 </td><td>NA                                                                                                                                                                                    </td><td>NA                                                                                                                                                                                    </td></tr>\n",
       "\t<tr><td> 6                                                                                                                                                                                    </td><td><span style=white-space:pre-wrap>\"J'ai un progrès précis, crédible, de gauche\", a dit @Vincent_Peillon dans sa conclusion https://t.co/Zs9UHNLcNb… https://t.co/mBtiNvJIAb     </span></td><td>FALSE                                                                                                                                                                                 </td><td>0                                                                                                                                                                                     </td><td>NA                                                                                                                                                                                    </td><td>2017-01-19 22:50:05                                                                                                                                                                   </td><td> TRUE                                                                                                                                                                                 </td><td>NA                                                                                                                                                                                    </td><td>8.222146e+17                                                                                                                                                                          </td><td>NA                                                                                                                                                                                    </td><td><span style=white-space:pre-wrap>&lt;a href=\"http://snappytv.com\" rel=\"nofollow\"&gt;SnappyTV.com&lt;/a&gt;                       </span>                                              </td><td><span style=white-space:pre-wrap>Europe1       </span>                                                                                                                                </td><td><span style=white-space:pre-wrap>  0</span>                                                                                                                                           </td><td>FALSE                                                                                                                                                                                 </td><td>FALSE                                                                                                                                                                                 </td><td>NA                                                                                                                                                                                    </td><td>NA                                                                                                                                                                                    </td></tr>\n",
       "\t<tr><td> 7                                                                                                                                                </td><td>RT @benoithamon: #PrimaireLeDebat Paix au Proche-orient : nous devons écouter les sociétés et prendre des initiatives -&amp;gt; reconnaissance de…</td><td>FALSE                                                                                                                                             </td><td>0                                                                                                                                                 </td><td>NA                                                                                                                                                </td><td>2017-01-19 22:50:05                                                                                                                               </td><td>FALSE                                                                                                                                             </td><td>NA                                                                                                                                                </td><td>8.222146e+17                                                                                                                                      </td><td>NA                                                                                                                                                </td><td><span style=white-space:pre-wrap>&lt;a href=\"https://mobile.twitter.com\" rel=\"nofollow\"&gt;Mobile Web (M5)&lt;/a&gt;             </span>          </td><td><span style=white-space:pre-wrap>delpeyrat     </span>                                                                                            </td><td>225                                                                                                                                               </td><td> TRUE                                                                                                                                             </td><td>FALSE                                                                                                                                             </td><td>NA                                                                                                                                                </td><td>NA                                                                                                                                                </td></tr>\n",
       "\t<tr><td> 8                                                                                                                                                                                    </td><td><span style=white-space:pre-wrap>RT @SylviaPinel: Les contours de son programme restent flous d'ailleurs #PrimaireLeDebat                                                      </span></td><td>FALSE                                                                                                                                                                                 </td><td>0                                                                                                                                                                                     </td><td>NA                                                                                                                                                                                    </td><td>2017-01-19 22:50:05                                                                                                                                                                   </td><td>FALSE                                                                                                                                                                                 </td><td>NA                                                                                                                                                                                    </td><td>8.222146e+17                                                                                                                                                                          </td><td>NA                                                                                                                                                                                    </td><td>&lt;a href=\"http://twitter.com/download/android\" rel=\"nofollow\"&gt;Twitter for Android&lt;/a&gt;                                                                                      </td><td><span style=white-space:pre-wrap>NouetDom      </span>                                                                                                                                </td><td><span style=white-space:pre-wrap>  5</span>                                                                                                                                           </td><td> TRUE                                                                                                                                                                                 </td><td>FALSE                                                                                                                                                                                 </td><td>NA                                                                                                                                                                                    </td><td>NA                                                                                                                                                                                    </td></tr>\n",
       "\t<tr><td> 9                                                                                                                                                                                    </td><td><span style=white-space:pre-wrap>RT @AnneYunie59000: #PrimaireLeDebat Après les 7 plaies d'Egypte ,les Français ont le droit ce soir aux 7 plaies de la France .               </span></td><td>FALSE                                                                                                                                                                                 </td><td>0                                                                                                                                                                                     </td><td>NA                                                                                                                                                                                    </td><td>2017-01-19 22:50:05                                                                                                                                                                   </td><td>FALSE                                                                                                                                                                                 </td><td>NA                                                                                                                                                                                    </td><td>8.222146e+17                                                                                                                                                                          </td><td>NA                                                                                                                                                                                    </td><td><span style=white-space:pre-wrap>&lt;a href=\"https://mobile.twitter.com\" rel=\"nofollow\"&gt;Mobile Web (M5)&lt;/a&gt;             </span>                                              </td><td><span style=white-space:pre-wrap>delhoume7     </span>                                                                                                                                </td><td> 20                                                                                                                                                                                   </td><td> TRUE                                                                                                                                                                                 </td><td>FALSE                                                                                                                                                                                 </td><td>NA                                                                                                                                                                                    </td><td>NA                                                                                                                                                                                    </td></tr>\n",
       "\t<tr><td>10                                                                                                                                                                                    </td><td><span style=white-space:pre-wrap>Voilà pourquoi voter pour #Montebourg dimanche ! #Montebourg2017 #PrimaireLeDebat https://t.co/2dk2xOSLvA                                     </span></td><td>FALSE                                                                                                                                                                                 </td><td>0                                                                                                                                                                                     </td><td>NA                                                                                                                                                                                    </td><td>2017-01-19 22:50:05                                                                                                                                                                   </td><td>FALSE                                                                                                                                                                                 </td><td>NA                                                                                                                                                                                    </td><td>8.222146e+17                                                                                                                                                                          </td><td>NA                                                                                                                                                                                    </td><td><span style=white-space:pre-wrap>&lt;a href=\"http://twitter.com\" rel=\"nofollow\"&gt;Twitter Web Client&lt;/a&gt;                  </span>                                              </td><td><span style=white-space:pre-wrap>antoinehb     </span>                                                                                                                                </td><td><span style=white-space:pre-wrap>  0</span>                                                                                                                                           </td><td>FALSE                                                                                                                                                                                 </td><td>FALSE                                                                                                                                                                                 </td><td>NA                                                                                                                                                                                    </td><td>NA                                                                                                                                                                                    </td></tr>\n",
       "</tbody>\n",
       "</table>\n"
      ],
      "text/latex": [
       "\\begin{tabular}{r|lllllllllllllllll}\n",
       " X & text & favorited & favoriteCount & replyToSN & created & truncated & replyToSID & id & replyToUID & statusSource & screenName & retweetCount & isRetweet & retweeted & longitude & latitude\\\\\n",
       "\\hline\n",
       "\t  1                                                                                                                                               & Ce fut un débat intéressnt ! Ccl :Il y'a encore de l'espoir!N'oublions pas qu'un bon président est un président engagé ! \\#PrimaireLeDebat      & FALSE                                                                                                                                            & 0                                                                                                                                                & NA                                                                                                                                               & 2017-01-19 22:50:06                                                                                                                              & FALSE                                                                                                                                            & NA                                                                                                                                               & 8.222146e+17                                                                                                                                     & NA                                                                                                                                               & <a href=\"http://twitter.com/download/iphone\" rel=\"nofollow\">Twitter for iPhone</a>                                                               & OuAtas                                                                                                                                           &   0                                                                                                                                              & FALSE                                                                                                                                            & FALSE                                                                                                                                            & NA                                                                                                                                               & NA                                                                                                                                              \\\\\n",
       "\t  2                                                                                                                                                   & C'est bon @GoogleFR @TwitterFrance avez vous bien collectés mes données ? Bonne nuit \\#numerique \\#bigdata \\#PrimaireLeDébat                      & FALSE                                                                                                                                                & 0                                                                                                                                                    & NA                                                                                                                                                   & 2017-01-19 22:50:06                                                                                                                                  & FALSE                                                                                                                                                & NA                                                                                                                                                   & 8.222146e+17                                                                                                                                         & NA                                                                                                                                                   & <a href=\"http://twitter.com\" rel=\"nofollow\">Twitter Web Client</a>                                                                                   & WajdiHA2                                                                                                                                             &   0                                                                                                                                                  & FALSE                                                                                                                                                & FALSE                                                                                                                                                & NA                                                                                                                                                   & NA                                                                                                                                                  \\\\\n",
       "\t  3                                                                                                                                                   & RT @DeLuca\\_Patrice: .@manuelvalls \"Je veux incarner l'espérance, venez voter dimanche!\" \\#AvecValls \\#PrimaireLeDebat                            & FALSE                                                                                                                                                & 0                                                                                                                                                    & NA                                                                                                                                                   & 2017-01-19 22:50:06                                                                                                                                  & FALSE                                                                                                                                                & NA                                                                                                                                                   & 8.222146e+17                                                                                                                                         & NA                                                                                                                                                   & <a href=\"http://www.twitter.com\" rel=\"nofollow\">Twitter for Windows</a>                                                                              & ProvenceValls                                                                                                                                        &   5                                                                                                                                                  &  TRUE                                                                                                                                                & FALSE                                                                                                                                                & NA                                                                                                                                                   & NA                                                                                                                                                  \\\\\n",
       "\t  4                                                                                                                                                     & RT @DeLuca\\_Patrice: .@manuelvalls \"Nous avons besoin d'une Europe forte et unie\" \\#AvecValls \\#PrimaireLeDebat \\#Valls2017                        & FALSE                                                                                                                                                  & 0                                                                                                                                                      & NA                                                                                                                                                     & 2017-01-19 22:50:05                                                                                                                                    & FALSE                                                                                                                                                  & NA                                                                                                                                                     & 8.222146e+17                                                                                                                                           & NA                                                                                                                                                     & <a href=\"http://twitter.com\" rel=\"nofollow\">Twitter Web Client</a>                                                                                     & Jojo29\\_BZH                                                                                                                                           &  10                                                                                                                                                    &  TRUE                                                                                                                                                  & FALSE                                                                                                                                                  & NA                                                                                                                                                     & NA                                                                                                                                                    \\\\\n",
       "\t  5                                                                                                                                                       & RT @LPF\\_Paris18: \\#PrimaireLeDebat Dis donc @manuelvalls c'est à coup de \\#decheancedenationalite et de \\#49Al3 que tu penses nous sauver? \\#Mo…   & FALSE                                                                                                                                                    & 0                                                                                                                                                        & NA                                                                                                                                                       & 2017-01-19 22:50:05                                                                                                                                      & FALSE                                                                                                                                                    & NA                                                                                                                                                       & 8.222146e+17                                                                                                                                             & NA                                                                                                                                                       & <a href=\"http://twitter.com/download/android\" rel=\"nofollow\">Twitter for Android</a>                                                                     & FranceCredible                                                                                                                                           &   6                                                                                                                                                      &  TRUE                                                                                                                                                    & FALSE                                                                                                                                                    & NA                                                                                                                                                       & NA                                                                                                                                                      \\\\\n",
       "\t  6                                                                                                                                               & \"J'ai un progrès précis, crédible, de gauche\", a dit @Vincent\\_Peillon dans sa conclusion https://t.co/Zs9UHNLcNb… https://t.co/mBtiNvJIAb      & FALSE                                                                                                                                            & 0                                                                                                                                                & NA                                                                                                                                               & 2017-01-19 22:50:05                                                                                                                              &  TRUE                                                                                                                                            & NA                                                                                                                                               & 8.222146e+17                                                                                                                                     & NA                                                                                                                                               & <a href=\"http://snappytv.com\" rel=\"nofollow\">SnappyTV.com</a>                                                                                    & Europe1                                                                                                                                          &   0                                                                                                                                              & FALSE                                                                                                                                            & FALSE                                                                                                                                            & NA                                                                                                                                               & NA                                                                                                                                              \\\\\n",
       "\t  7                                                                                                                                                 & RT @benoithamon: \\#PrimaireLeDebat Paix au Proche-orient : nous devons écouter les sociétés et prendre des initiatives -\\&gt; reconnaissance de… & FALSE                                                                                                                                              & 0                                                                                                                                                  & NA                                                                                                                                                 & 2017-01-19 22:50:05                                                                                                                                & FALSE                                                                                                                                              & NA                                                                                                                                                 & 8.222146e+17                                                                                                                                       & NA                                                                                                                                                 & <a href=\"https://mobile.twitter.com\" rel=\"nofollow\">Mobile Web (M5)</a>                                                                            & delpeyrat                                                                                                                                          & 225                                                                                                                                                &  TRUE                                                                                                                                              & FALSE                                                                                                                                              & NA                                                                                                                                                 & NA                                                                                                                                                \\\\\n",
       "\t  8                                                                                                                                               & RT @SylviaPinel: Les contours de son programme restent flous d'ailleurs \\#PrimaireLeDebat                                                       & FALSE                                                                                                                                            & 0                                                                                                                                                & NA                                                                                                                                               & 2017-01-19 22:50:05                                                                                                                              & FALSE                                                                                                                                            & NA                                                                                                                                               & 8.222146e+17                                                                                                                                     & NA                                                                                                                                               & <a href=\"http://twitter.com/download/android\" rel=\"nofollow\">Twitter for Android</a>                                                             & NouetDom                                                                                                                                         &   5                                                                                                                                              &  TRUE                                                                                                                                            & FALSE                                                                                                                                            & NA                                                                                                                                               & NA                                                                                                                                              \\\\\n",
       "\t  9                                                                                                                                               & RT @AnneYunie59000: \\#PrimaireLeDebat Après les 7 plaies d'Egypte ,les Français ont le droit ce soir aux 7 plaies de la France .                & FALSE                                                                                                                                            & 0                                                                                                                                                & NA                                                                                                                                               & 2017-01-19 22:50:05                                                                                                                              & FALSE                                                                                                                                            & NA                                                                                                                                               & 8.222146e+17                                                                                                                                     & NA                                                                                                                                               & <a href=\"https://mobile.twitter.com\" rel=\"nofollow\">Mobile Web (M5)</a>                                                                          & delhoume7                                                                                                                                        &  20                                                                                                                                              &  TRUE                                                                                                                                            & FALSE                                                                                                                                            & NA                                                                                                                                               & NA                                                                                                                                              \\\\\n",
       "\t 10                                                                                                                                                   & Voilà pourquoi voter pour \\#Montebourg dimanche ! \\#Montebourg2017 \\#PrimaireLeDebat https://t.co/2dk2xOSLvA                                      & FALSE                                                                                                                                                & 0                                                                                                                                                    & NA                                                                                                                                                   & 2017-01-19 22:50:05                                                                                                                                  & FALSE                                                                                                                                                & NA                                                                                                                                                   & 8.222146e+17                                                                                                                                         & NA                                                                                                                                                   & <a href=\"http://twitter.com\" rel=\"nofollow\">Twitter Web Client</a>                                                                                   & antoinehb                                                                                                                                            &   0                                                                                                                                                  & FALSE                                                                                                                                                & FALSE                                                                                                                                                & NA                                                                                                                                                   & NA                                                                                                                                                  \\\\\n",
       "\\end{tabular}\n"
      ],
      "text/markdown": [
       "\n",
       "X | text | favorited | favoriteCount | replyToSN | created | truncated | replyToSID | id | replyToUID | statusSource | screenName | retweetCount | isRetweet | retweeted | longitude | latitude | \n",
       "|---|---|---|---|---|---|---|---|---|---|\n",
       "|  1                                                                                                                                             | Ce fut un débat intéressnt ! Ccl :Il y'a encore de l'espoir!N'oublions pas qu'un bon président est un président engagé ! #PrimaireLeDebat      | FALSE                                                                                                                                          | 0                                                                                                                                              | NA                                                                                                                                             | 2017-01-19 22:50:06                                                                                                                            | FALSE                                                                                                                                          | NA                                                                                                                                             | 8.222146e+17                                                                                                                                   | NA                                                                                                                                             | <a href=\"http://twitter.com/download/iphone\" rel=\"nofollow\">Twitter for iPhone</a>                                                             | OuAtas                                                                                                                                         |   0                                                                                                                                            | FALSE                                                                                                                                          | FALSE                                                                                                                                          | NA                                                                                                                                             | NA                                                                                                                                             | \n",
       "|  2                                                                                                                                             | C'est bon @GoogleFR @TwitterFrance avez vous bien collectés mes données ? Bonne nuit #numerique #bigdata #PrimaireLeDébat                      | FALSE                                                                                                                                          | 0                                                                                                                                              | NA                                                                                                                                             | 2017-01-19 22:50:06                                                                                                                            | FALSE                                                                                                                                          | NA                                                                                                                                             | 8.222146e+17                                                                                                                                   | NA                                                                                                                                             | <a href=\"http://twitter.com\" rel=\"nofollow\">Twitter Web Client</a>                                                                             | WajdiHA2                                                                                                                                       |   0                                                                                                                                            | FALSE                                                                                                                                          | FALSE                                                                                                                                          | NA                                                                                                                                             | NA                                                                                                                                             | \n",
       "|  3                                                                                                                                             | RT @DeLuca_Patrice: .@manuelvalls \"Je veux incarner l'espérance, venez voter dimanche!\" #AvecValls #PrimaireLeDebat                            | FALSE                                                                                                                                          | 0                                                                                                                                              | NA                                                                                                                                             | 2017-01-19 22:50:06                                                                                                                            | FALSE                                                                                                                                          | NA                                                                                                                                             | 8.222146e+17                                                                                                                                   | NA                                                                                                                                             | <a href=\"http://www.twitter.com\" rel=\"nofollow\">Twitter for Windows</a>                                                                        | ProvenceValls                                                                                                                                  |   5                                                                                                                                            |  TRUE                                                                                                                                          | FALSE                                                                                                                                          | NA                                                                                                                                             | NA                                                                                                                                             | \n",
       "|  4                                                                                                                                             | RT @DeLuca_Patrice: .@manuelvalls \"Nous avons besoin d'une Europe forte et unie\" #AvecValls #PrimaireLeDebat #Valls2017                        | FALSE                                                                                                                                          | 0                                                                                                                                              | NA                                                                                                                                             | 2017-01-19 22:50:05                                                                                                                            | FALSE                                                                                                                                          | NA                                                                                                                                             | 8.222146e+17                                                                                                                                   | NA                                                                                                                                             | <a href=\"http://twitter.com\" rel=\"nofollow\">Twitter Web Client</a>                                                                             | Jojo29_BZH                                                                                                                                     |  10                                                                                                                                            |  TRUE                                                                                                                                          | FALSE                                                                                                                                          | NA                                                                                                                                             | NA                                                                                                                                             | \n",
       "|  5                                                                                                                                             | RT @LPF_Paris18: #PrimaireLeDebat Dis donc @manuelvalls c'est à coup de #decheancedenationalite et de #49Al3 que tu penses nous sauver? #Mo…   | FALSE                                                                                                                                          | 0                                                                                                                                              | NA                                                                                                                                             | 2017-01-19 22:50:05                                                                                                                            | FALSE                                                                                                                                          | NA                                                                                                                                             | 8.222146e+17                                                                                                                                   | NA                                                                                                                                             | <a href=\"http://twitter.com/download/android\" rel=\"nofollow\">Twitter for Android</a>                                                           | FranceCredible                                                                                                                                 |   6                                                                                                                                            |  TRUE                                                                                                                                          | FALSE                                                                                                                                          | NA                                                                                                                                             | NA                                                                                                                                             | \n",
       "|  6                                                                                                                                             | \"J'ai un progrès précis, crédible, de gauche\", a dit @Vincent_Peillon dans sa conclusion https://t.co/Zs9UHNLcNb… https://t.co/mBtiNvJIAb      | FALSE                                                                                                                                          | 0                                                                                                                                              | NA                                                                                                                                             | 2017-01-19 22:50:05                                                                                                                            |  TRUE                                                                                                                                          | NA                                                                                                                                             | 8.222146e+17                                                                                                                                   | NA                                                                                                                                             | <a href=\"http://snappytv.com\" rel=\"nofollow\">SnappyTV.com</a>                                                                                  | Europe1                                                                                                                                        |   0                                                                                                                                            | FALSE                                                                                                                                          | FALSE                                                                                                                                          | NA                                                                                                                                             | NA                                                                                                                                             | \n",
       "|  7                                                                                                                                             | RT @benoithamon: #PrimaireLeDebat Paix au Proche-orient : nous devons écouter les sociétés et prendre des initiatives -&gt; reconnaissance de… | FALSE                                                                                                                                          | 0                                                                                                                                              | NA                                                                                                                                             | 2017-01-19 22:50:05                                                                                                                            | FALSE                                                                                                                                          | NA                                                                                                                                             | 8.222146e+17                                                                                                                                   | NA                                                                                                                                             | <a href=\"https://mobile.twitter.com\" rel=\"nofollow\">Mobile Web (M5)</a>                                                                        | delpeyrat                                                                                                                                      | 225                                                                                                                                            |  TRUE                                                                                                                                          | FALSE                                                                                                                                          | NA                                                                                                                                             | NA                                                                                                                                             | \n",
       "|  8                                                                                                                                             | RT @SylviaPinel: Les contours de son programme restent flous d'ailleurs #PrimaireLeDebat                                                       | FALSE                                                                                                                                          | 0                                                                                                                                              | NA                                                                                                                                             | 2017-01-19 22:50:05                                                                                                                            | FALSE                                                                                                                                          | NA                                                                                                                                             | 8.222146e+17                                                                                                                                   | NA                                                                                                                                             | <a href=\"http://twitter.com/download/android\" rel=\"nofollow\">Twitter for Android</a>                                                           | NouetDom                                                                                                                                       |   5                                                                                                                                            |  TRUE                                                                                                                                          | FALSE                                                                                                                                          | NA                                                                                                                                             | NA                                                                                                                                             | \n",
       "|  9                                                                                                                                             | RT @AnneYunie59000: #PrimaireLeDebat Après les 7 plaies d'Egypte ,les Français ont le droit ce soir aux 7 plaies de la France .                | FALSE                                                                                                                                          | 0                                                                                                                                              | NA                                                                                                                                             | 2017-01-19 22:50:05                                                                                                                            | FALSE                                                                                                                                          | NA                                                                                                                                             | 8.222146e+17                                                                                                                                   | NA                                                                                                                                             | <a href=\"https://mobile.twitter.com\" rel=\"nofollow\">Mobile Web (M5)</a>                                                                        | delhoume7                                                                                                                                      |  20                                                                                                                                            |  TRUE                                                                                                                                          | FALSE                                                                                                                                          | NA                                                                                                                                             | NA                                                                                                                                             | \n",
       "| 10                                                                                                                                             | Voilà pourquoi voter pour #Montebourg dimanche ! #Montebourg2017 #PrimaireLeDebat https://t.co/2dk2xOSLvA                                      | FALSE                                                                                                                                          | 0                                                                                                                                              | NA                                                                                                                                             | 2017-01-19 22:50:05                                                                                                                            | FALSE                                                                                                                                          | NA                                                                                                                                             | 8.222146e+17                                                                                                                                   | NA                                                                                                                                             | <a href=\"http://twitter.com\" rel=\"nofollow\">Twitter Web Client</a>                                                                             | antoinehb                                                                                                                                      |   0                                                                                                                                            | FALSE                                                                                                                                          | FALSE                                                                                                                                          | NA                                                                                                                                             | NA                                                                                                                                             | \n",
       "\n",
       "\n"
      ],
      "text/plain": [
       "   X \n",
       "1   1\n",
       "2   2\n",
       "3   3\n",
       "4   4\n",
       "5   5\n",
       "6   6\n",
       "7   7\n",
       "8   8\n",
       "9   9\n",
       "10 10\n",
       "   text                                                                                                                                          \n",
       "1  Ce fut un débat intéressnt ! Ccl :Il y'a encore de l'espoir!N'oublions pas qu'un bon président est un président engagé ! #PrimaireLeDebat     \n",
       "2  C'est bon @GoogleFR @TwitterFrance avez vous bien collectés mes données ? Bonne nuit #numerique #bigdata #PrimaireLeDébat                     \n",
       "3  RT @DeLuca_Patrice: .@manuelvalls \"Je veux incarner l'espérance, venez voter dimanche!\" #AvecValls #PrimaireLeDebat                           \n",
       "4  RT @DeLuca_Patrice: .@manuelvalls \"Nous avons besoin d'une Europe forte et unie\" #AvecValls #PrimaireLeDebat #Valls2017                       \n",
       "5  RT @LPF_Paris18: #PrimaireLeDebat Dis donc @manuelvalls c'est à coup de #decheancedenationalite et de #49Al3 que tu penses nous sauver? #Mo…  \n",
       "6  \"J'ai un progrès précis, crédible, de gauche\", a dit @Vincent_Peillon dans sa conclusion https://t.co/Zs9UHNLcNb… https://t.co/mBtiNvJIAb     \n",
       "7  RT @benoithamon: #PrimaireLeDebat Paix au Proche-orient : nous devons écouter les sociétés et prendre des initiatives -&gt; reconnaissance de…\n",
       "8  RT @SylviaPinel: Les contours de son programme restent flous d'ailleurs #PrimaireLeDebat                                                      \n",
       "9  RT @AnneYunie59000: #PrimaireLeDebat Après les 7 plaies d'Egypte ,les Français ont le droit ce soir aux 7 plaies de la France .               \n",
       "10 Voilà pourquoi voter pour #Montebourg dimanche ! #Montebourg2017 #PrimaireLeDebat https://t.co/2dk2xOSLvA                                     \n",
       "   favorited favoriteCount replyToSN created             truncated replyToSID\n",
       "1  FALSE     0             NA        2017-01-19 22:50:06 FALSE     NA        \n",
       "2  FALSE     0             NA        2017-01-19 22:50:06 FALSE     NA        \n",
       "3  FALSE     0             NA        2017-01-19 22:50:06 FALSE     NA        \n",
       "4  FALSE     0             NA        2017-01-19 22:50:05 FALSE     NA        \n",
       "5  FALSE     0             NA        2017-01-19 22:50:05 FALSE     NA        \n",
       "6  FALSE     0             NA        2017-01-19 22:50:05  TRUE     NA        \n",
       "7  FALSE     0             NA        2017-01-19 22:50:05 FALSE     NA        \n",
       "8  FALSE     0             NA        2017-01-19 22:50:05 FALSE     NA        \n",
       "9  FALSE     0             NA        2017-01-19 22:50:05 FALSE     NA        \n",
       "10 FALSE     0             NA        2017-01-19 22:50:05 FALSE     NA        \n",
       "   id           replyToUID\n",
       "1  8.222146e+17 NA        \n",
       "2  8.222146e+17 NA        \n",
       "3  8.222146e+17 NA        \n",
       "4  8.222146e+17 NA        \n",
       "5  8.222146e+17 NA        \n",
       "6  8.222146e+17 NA        \n",
       "7  8.222146e+17 NA        \n",
       "8  8.222146e+17 NA        \n",
       "9  8.222146e+17 NA        \n",
       "10 8.222146e+17 NA        \n",
       "   statusSource                                                                        \n",
       "1  <a href=\"http://twitter.com/download/iphone\" rel=\"nofollow\">Twitter for iPhone</a>  \n",
       "2  <a href=\"http://twitter.com\" rel=\"nofollow\">Twitter Web Client</a>                  \n",
       "3  <a href=\"http://www.twitter.com\" rel=\"nofollow\">Twitter for Windows</a>             \n",
       "4  <a href=\"http://twitter.com\" rel=\"nofollow\">Twitter Web Client</a>                  \n",
       "5  <a href=\"http://twitter.com/download/android\" rel=\"nofollow\">Twitter for Android</a>\n",
       "6  <a href=\"http://snappytv.com\" rel=\"nofollow\">SnappyTV.com</a>                       \n",
       "7  <a href=\"https://mobile.twitter.com\" rel=\"nofollow\">Mobile Web (M5)</a>             \n",
       "8  <a href=\"http://twitter.com/download/android\" rel=\"nofollow\">Twitter for Android</a>\n",
       "9  <a href=\"https://mobile.twitter.com\" rel=\"nofollow\">Mobile Web (M5)</a>             \n",
       "10 <a href=\"http://twitter.com\" rel=\"nofollow\">Twitter Web Client</a>                  \n",
       "   screenName     retweetCount isRetweet retweeted longitude latitude\n",
       "1  OuAtas           0          FALSE     FALSE     NA        NA      \n",
       "2  WajdiHA2         0          FALSE     FALSE     NA        NA      \n",
       "3  ProvenceValls    5           TRUE     FALSE     NA        NA      \n",
       "4  Jojo29_BZH      10           TRUE     FALSE     NA        NA      \n",
       "5  FranceCredible   6           TRUE     FALSE     NA        NA      \n",
       "6  Europe1          0          FALSE     FALSE     NA        NA      \n",
       "7  delpeyrat      225           TRUE     FALSE     NA        NA      \n",
       "8  NouetDom         5           TRUE     FALSE     NA        NA      \n",
       "9  delhoume7       20           TRUE     FALSE     NA        NA      \n",
       "10 antoinehb        0          FALSE     FALSE     NA        NA      "
      ]
     },
     "metadata": {},
     "output_type": "display_data"
    }
   ],
   "source": [
    "head(tweets, n = 10)"
   ]
  },
  {
   "cell_type": "markdown",
   "metadata": {},
   "source": [
    "Let's see if all the columns have multiple values, or if some are useless"
   ]
  },
  {
   "cell_type": "code",
   "execution_count": 209,
   "metadata": {
    "collapsed": false
   },
   "outputs": [
    {
     "data": {
      "text/html": [
       "FALSE"
      ],
      "text/latex": [
       "FALSE"
      ],
      "text/markdown": [
       "FALSE"
      ],
      "text/plain": [
       "[1] FALSE"
      ]
     },
     "metadata": {},
     "output_type": "display_data"
    },
    {
     "data": {
      "text/html": [
       "<ol class=list-inline>\n",
       "\t<li>0</li>\n",
       "\t<li>1</li>\n",
       "\t<li>3</li>\n",
       "\t<li>2</li>\n",
       "\t<li>20</li>\n",
       "\t<li>17</li>\n",
       "</ol>\n"
      ],
      "text/latex": [
       "\\begin{enumerate*}\n",
       "\\item 0\n",
       "\\item 1\n",
       "\\item 3\n",
       "\\item 2\n",
       "\\item 20\n",
       "\\item 17\n",
       "\\end{enumerate*}\n"
      ],
      "text/markdown": [
       "1. 0\n",
       "2. 1\n",
       "3. 3\n",
       "4. 2\n",
       "5. 20\n",
       "6. 17\n",
       "\n",
       "\n"
      ],
      "text/plain": [
       "[1]  0  1  3  2 20 17"
      ]
     },
     "metadata": {},
     "output_type": "display_data"
    },
    {
     "data": {
      "text/html": [
       "<ol class=list-inline>\n",
       "\t<li>NA</li>\n",
       "\t<li>pv_659</li>\n",
       "\t<li>bonnetdAM</li>\n",
       "\t<li>adevillaines</li>\n",
       "\t<li>LorenzZorro</li>\n",
       "\t<li>benoithamon</li>\n",
       "</ol>\n"
      ],
      "text/latex": [
       "\\begin{enumerate*}\n",
       "\\item NA\n",
       "\\item pv\\_659\n",
       "\\item bonnetdAM\n",
       "\\item adevillaines\n",
       "\\item LorenzZorro\n",
       "\\item benoithamon\n",
       "\\end{enumerate*}\n"
      ],
      "text/markdown": [
       "1. NA\n",
       "2. pv_659\n",
       "3. bonnetdAM\n",
       "4. adevillaines\n",
       "5. LorenzZorro\n",
       "6. benoithamon\n",
       "\n",
       "\n"
      ],
      "text/plain": [
       "[1] <NA>         pv_659       bonnetdAM    adevillaines LorenzZorro \n",
       "[6] benoithamon \n",
       "265 Levels: _Brindacier _Ecce__Homo_ _harasl 0rel1Lambda ... ZohraBitan"
      ]
     },
     "metadata": {},
     "output_type": "display_data"
    },
    {
     "data": {
      "text/html": [
       "<ol class=list-inline>\n",
       "\t<li>NA</li>\n",
       "\t<li>814406118864723968</li>\n",
       "\t<li>500852226</li>\n",
       "\t<li>87425370</li>\n",
       "\t<li>465866698</li>\n",
       "\t<li>14389177</li>\n",
       "</ol>\n"
      ],
      "text/latex": [
       "\\begin{enumerate*}\n",
       "\\item NA\n",
       "\\item 814406118864723968\n",
       "\\item 500852226\n",
       "\\item 87425370\n",
       "\\item 465866698\n",
       "\\item 14389177\n",
       "\\end{enumerate*}\n"
      ],
      "text/markdown": [
       "1. NA\n",
       "2. 814406118864723968\n",
       "3. 500852226\n",
       "4. 87425370\n",
       "5. 465866698\n",
       "6. 14389177\n",
       "\n",
       "\n"
      ],
      "text/plain": [
       "[1]           NA 8.144061e+17 5.008522e+08 8.742537e+07 4.658667e+08\n",
       "[6] 1.438918e+07"
      ]
     },
     "metadata": {},
     "output_type": "display_data"
    },
    {
     "data": {
      "text/html": [
       "<ol class=list-inline>\n",
       "\t<li>822214581200318464</li>\n",
       "\t<li>822214578230661120</li>\n",
       "\t<li>822214578071371776</li>\n",
       "\t<li>822214576922042368</li>\n",
       "\t<li>822214576217456640</li>\n",
       "\t<li>822214576095645696</li>\n",
       "</ol>\n"
      ],
      "text/latex": [
       "\\begin{enumerate*}\n",
       "\\item 822214581200318464\n",
       "\\item 822214578230661120\n",
       "\\item 822214578071371776\n",
       "\\item 822214576922042368\n",
       "\\item 822214576217456640\n",
       "\\item 822214576095645696\n",
       "\\end{enumerate*}\n"
      ],
      "text/markdown": [
       "1. 822214581200318464\n",
       "2. 822214578230661120\n",
       "3. 822214578071371776\n",
       "4. 822214576922042368\n",
       "5. 822214576217456640\n",
       "6. 822214576095645696\n",
       "\n",
       "\n"
      ],
      "text/plain": [
       "[1] 8.222146e+17 8.222146e+17 8.222146e+17 8.222146e+17 8.222146e+17\n",
       "[6] 8.222146e+17"
      ]
     },
     "metadata": {},
     "output_type": "display_data"
    },
    {
     "data": {
      "text/html": [
       "<ol class=list-inline>\n",
       "\t<li>FALSE</li>\n",
       "\t<li>TRUE</li>\n",
       "</ol>\n"
      ],
      "text/latex": [
       "\\begin{enumerate*}\n",
       "\\item FALSE\n",
       "\\item TRUE\n",
       "\\end{enumerate*}\n"
      ],
      "text/markdown": [
       "1. FALSE\n",
       "2. TRUE\n",
       "\n",
       "\n"
      ],
      "text/plain": [
       "[1] FALSE  TRUE"
      ]
     },
     "metadata": {},
     "output_type": "display_data"
    },
    {
     "data": {
      "text/html": [
       "<ol class=list-inline>\n",
       "\t<li>NA</li>\n",
       "\t<li>8.4445</li>\n",
       "\t<li>2.3956657</li>\n",
       "\t<li>2.39549554</li>\n",
       "\t<li>2.39553973</li>\n",
       "\t<li>2.3318793</li>\n",
       "</ol>\n"
      ],
      "text/latex": [
       "\\begin{enumerate*}\n",
       "\\item NA\n",
       "\\item 8.4445\n",
       "\\item 2.3956657\n",
       "\\item 2.39549554\n",
       "\\item 2.39553973\n",
       "\\item 2.3318793\n",
       "\\end{enumerate*}\n"
      ],
      "text/markdown": [
       "1. NA\n",
       "2. 8.4445\n",
       "3. 2.3956657\n",
       "4. 2.39549554\n",
       "5. 2.39553973\n",
       "6. 2.3318793\n",
       "\n",
       "\n"
      ],
      "text/plain": [
       "[1]       NA 8.444500 2.395666 2.395496 2.395540 2.331879"
      ]
     },
     "metadata": {},
     "output_type": "display_data"
    },
    {
     "data": {
      "text/html": [
       "<ol class=list-inline>\n",
       "\t<li>NA</li>\n",
       "\t<li>46.813</li>\n",
       "\t<li>48.88828089</li>\n",
       "\t<li>48.8882607</li>\n",
       "\t<li>48.88827758</li>\n",
       "\t<li>48.8922837</li>\n",
       "</ol>\n"
      ],
      "text/latex": [
       "\\begin{enumerate*}\n",
       "\\item NA\n",
       "\\item 46.813\n",
       "\\item 48.88828089\n",
       "\\item 48.8882607\n",
       "\\item 48.88827758\n",
       "\\item 48.8922837\n",
       "\\end{enumerate*}\n"
      ],
      "text/markdown": [
       "1. NA\n",
       "2. 46.813\n",
       "3. 48.88828089\n",
       "4. 48.8882607\n",
       "5. 48.88827758\n",
       "6. 48.8922837\n",
       "\n",
       "\n"
      ],
      "text/plain": [
       "[1]       NA 46.81300 48.88828 48.88826 48.88828 48.89228"
      ]
     },
     "metadata": {},
     "output_type": "display_data"
    }
   ],
   "source": [
    "head(unique(tweets$favorited))\n",
    "head(unique(tweets$favoriteCount))\n",
    "head(unique(tweets$replyToSN))\n",
    "head(unique(tweets$replyToUID))\n",
    "head(unique(tweets$id))\n",
    "head(unique(tweets$isRetweet))\n",
    "head(unique(tweets$longitude))\n",
    "head(unique(tweets$latitude))"
   ]
  },
  {
   "cell_type": "code",
   "execution_count": 210,
   "metadata": {
    "collapsed": false
   },
   "outputs": [
    {
     "data": {
      "text/html": [
       "0"
      ],
      "text/latex": [
       "0"
      ],
      "text/markdown": [
       "0"
      ],
      "text/plain": [
       "[1] 0"
      ]
     },
     "metadata": {},
     "output_type": "display_data"
    },
    {
     "data": {
      "text/html": [
       "20000"
      ],
      "text/latex": [
       "20000"
      ],
      "text/markdown": [
       "20000"
      ],
      "text/plain": [
       "[1] 20000"
      ]
     },
     "metadata": {},
     "output_type": "display_data"
    }
   ],
   "source": [
    "length(which(tweets$favorited == \"TRUE\"))\n",
    "length(which(tweets$favorited == \"FALSE\"))"
   ]
  },
  {
   "cell_type": "markdown",
   "metadata": {},
   "source": [
    "We can see here that there is no TRUE value for favorited, only FALSE. favorited is useless though."
   ]
  },
  {
   "cell_type": "code",
   "execution_count": 211,
   "metadata": {
    "collapsed": false
   },
   "outputs": [
    {
     "data": {
      "text/html": [
       "16081"
      ],
      "text/latex": [
       "16081"
      ],
      "text/markdown": [
       "16081"
      ],
      "text/plain": [
       "[1] 16081"
      ]
     },
     "metadata": {},
     "output_type": "display_data"
    },
    {
     "data": {
      "text/html": [
       "3919"
      ],
      "text/latex": [
       "3919"
      ],
      "text/markdown": [
       "3919"
      ],
      "text/plain": [
       "[1] 3919"
      ]
     },
     "metadata": {},
     "output_type": "display_data"
    }
   ],
   "source": [
    "length(which(tweets$favoriteCount == 0))\n",
    "length(which(tweets$favoriteCount != 0))"
   ]
  },
  {
   "cell_type": "code",
   "execution_count": 212,
   "metadata": {
    "collapsed": false
   },
   "outputs": [
    {
     "data": {
      "text/html": [
       "19.595"
      ],
      "text/latex": [
       "19.595"
      ],
      "text/markdown": [
       "19.595"
      ],
      "text/plain": [
       "[1] 19.595"
      ]
     },
     "metadata": {},
     "output_type": "display_data"
    }
   ],
   "source": [
    "(3919/20000)*100"
   ]
  },
  {
   "cell_type": "markdown",
   "metadata": {},
   "source": [
    "The favoriteCount have multiple values, 20% of the are not 0 we better keep this column. It is maybe a significative data"
   ]
  },
  {
   "cell_type": "code",
   "execution_count": 213,
   "metadata": {
    "collapsed": false
   },
   "outputs": [
    {
     "data": {
      "text/html": [
       "9"
      ],
      "text/latex": [
       "9"
      ],
      "text/markdown": [
       "9"
      ],
      "text/plain": [
       "[1] 9"
      ]
     },
     "metadata": {},
     "output_type": "display_data"
    },
    {
     "data": {
      "text/html": [
       "9"
      ],
      "text/latex": [
       "9"
      ],
      "text/markdown": [
       "9"
      ],
      "text/plain": [
       "[1] 9"
      ]
     },
     "metadata": {},
     "output_type": "display_data"
    }
   ],
   "source": [
    "length(which(tweets$longitude != \"NA\"))\n",
    "length(which(tweets$latitude != \"NA\"))"
   ]
  },
  {
   "cell_type": "code",
   "execution_count": 214,
   "metadata": {
    "collapsed": false
   },
   "outputs": [
    {
     "data": {
      "text/html": [
       "0.045"
      ],
      "text/latex": [
       "0.045"
      ],
      "text/markdown": [
       "0.045"
      ],
      "text/plain": [
       "[1] 0.045"
      ]
     },
     "metadata": {},
     "output_type": "display_data"
    }
   ],
   "source": [
    "(9/20000)*100"
   ]
  },
  {
   "cell_type": "markdown",
   "metadata": {},
   "source": [
    "There is only 9 tweets over 20 000 that contains latitude and longitude, this represents only 0.045% of the tweets, this info can be considered as useless, and we can delete this two columns too."
   ]
  },
  {
   "cell_type": "code",
   "execution_count": 215,
   "metadata": {
    "collapsed": false
   },
   "outputs": [
    {
     "data": {
      "text/html": [
       "698"
      ],
      "text/latex": [
       "698"
      ],
      "text/markdown": [
       "698"
      ],
      "text/plain": [
       "[1] 698"
      ]
     },
     "metadata": {},
     "output_type": "display_data"
    },
    {
     "data": {
      "text/html": [
       "698"
      ],
      "text/latex": [
       "698"
      ],
      "text/markdown": [
       "698"
      ],
      "text/plain": [
       "[1] 698"
      ]
     },
     "metadata": {},
     "output_type": "display_data"
    },
    {
     "data": {
      "text/html": [
       "445"
      ],
      "text/latex": [
       "445"
      ],
      "text/markdown": [
       "445"
      ],
      "text/plain": [
       "[1] 445"
      ]
     },
     "metadata": {},
     "output_type": "display_data"
    }
   ],
   "source": [
    "length(which(tweets$replyToSN != \"NA\"))\n",
    "length(which(tweets$replyToUID != 'NA'))\n",
    "length(which(tweets$replyToSID != 'NA'))"
   ]
  },
  {
   "cell_type": "code",
   "execution_count": 216,
   "metadata": {
    "collapsed": false
   },
   "outputs": [
    {
     "data": {
      "text/html": [
       "3.49"
      ],
      "text/latex": [
       "3.49"
      ],
      "text/markdown": [
       "3.49"
      ],
      "text/plain": [
       "[1] 3.49"
      ]
     },
     "metadata": {},
     "output_type": "display_data"
    }
   ],
   "source": [
    "(698/20000)*100"
   ]
  },
  {
   "cell_type": "markdown",
   "metadata": {},
   "source": [
    "There is only about 3.5% of the replytoSN and replyToUID data that are not NA, we can delete these two columns as they don't seem to be interesting to study."
   ]
  },
  {
   "cell_type": "markdown",
   "metadata": {},
   "source": [
    "### Let's delete these useless columns!"
   ]
  },
  {
   "cell_type": "code",
   "execution_count": 217,
   "metadata": {
    "collapsed": false
   },
   "outputs": [],
   "source": [
    "tweets <- subset(tweets, select=-c(replyToSN,replyToUID, replyToSID, latitude, longitude, favorited))"
   ]
  },
  {
   "cell_type": "code",
   "execution_count": 218,
   "metadata": {
    "collapsed": false,
    "scrolled": true
   },
   "outputs": [
    {
     "data": {
      "text/html": [
       "<table>\n",
       "<thead><tr><th scope=col>X</th><th scope=col>text</th><th scope=col>favoriteCount</th><th scope=col>created</th><th scope=col>truncated</th><th scope=col>id</th><th scope=col>statusSource</th><th scope=col>screenName</th><th scope=col>retweetCount</th><th scope=col>isRetweet</th><th scope=col>retweeted</th></tr></thead>\n",
       "<tbody>\n",
       "\t<tr><td>1                                                                                                                                                                                   </td><td><span style=white-space:pre-wrap>Ce fut un débat intéressnt ! Ccl :Il y'a encore de l'espoir!N'oublions pas qu'un bon président est un président engagé ! #PrimaireLeDebat   </span></td><td>0                                                                                                                                                                                   </td><td>2017-01-19 22:50:06                                                                                                                                                                 </td><td>FALSE                                                                                                                                                                               </td><td>8.222146e+17                                                                                                                                                                        </td><td><span style=white-space:pre-wrap>&lt;a href=\"http://twitter.com/download/iphone\" rel=\"nofollow\"&gt;Twitter for iPhone&lt;/a&gt;  </span>                                            </td><td><span style=white-space:pre-wrap>OuAtas        </span>                                                                                                                              </td><td> 0                                                                                                                                                                                  </td><td>FALSE                                                                                                                                                                               </td><td>FALSE                                                                                                                                                                               </td></tr>\n",
       "\t<tr><td>2                                                                                                                                                                                   </td><td><span style=white-space:pre-wrap>C'est bon @GoogleFR @TwitterFrance avez vous bien collectés mes données ? Bonne nuit #numerique #bigdata #PrimaireLeDébat                   </span></td><td>0                                                                                                                                                                                   </td><td>2017-01-19 22:50:06                                                                                                                                                                 </td><td>FALSE                                                                                                                                                                               </td><td>8.222146e+17                                                                                                                                                                        </td><td><span style=white-space:pre-wrap>&lt;a href=\"http://twitter.com\" rel=\"nofollow\"&gt;Twitter Web Client&lt;/a&gt;                  </span>                                            </td><td><span style=white-space:pre-wrap>WajdiHA2      </span>                                                                                                                              </td><td> 0                                                                                                                                                                                  </td><td>FALSE                                                                                                                                                                               </td><td>FALSE                                                                                                                                                                               </td></tr>\n",
       "\t<tr><td>3                                                                                                                                                                                   </td><td><span style=white-space:pre-wrap>RT @DeLuca_Patrice: .@manuelvalls \"Je veux incarner l'espérance, venez voter dimanche!\" #AvecValls #PrimaireLeDebat                         </span></td><td>0                                                                                                                                                                                   </td><td>2017-01-19 22:50:06                                                                                                                                                                 </td><td>FALSE                                                                                                                                                                               </td><td>8.222146e+17                                                                                                                                                                        </td><td><span style=white-space:pre-wrap>&lt;a href=\"http://www.twitter.com\" rel=\"nofollow\"&gt;Twitter for Windows&lt;/a&gt;             </span>                                            </td><td>ProvenceValls                                                                                                                                                                       </td><td> 5                                                                                                                                                                                  </td><td> TRUE                                                                                                                                                                               </td><td>FALSE                                                                                                                                                                               </td></tr>\n",
       "\t<tr><td>4                                                                                                                                                                                   </td><td><span style=white-space:pre-wrap>RT @DeLuca_Patrice: .@manuelvalls \"Nous avons besoin d'une Europe forte et unie\" #AvecValls #PrimaireLeDebat #Valls2017                     </span></td><td>0                                                                                                                                                                                   </td><td>2017-01-19 22:50:05                                                                                                                                                                 </td><td>FALSE                                                                                                                                                                               </td><td>8.222146e+17                                                                                                                                                                        </td><td><span style=white-space:pre-wrap>&lt;a href=\"http://twitter.com\" rel=\"nofollow\"&gt;Twitter Web Client&lt;/a&gt;                  </span>                                            </td><td><span style=white-space:pre-wrap>Jojo29_BZH    </span>                                                                                                                              </td><td>10                                                                                                                                                                                  </td><td> TRUE                                                                                                                                                                               </td><td>FALSE                                                                                                                                                                               </td></tr>\n",
       "\t<tr><td>5                                                                                                                                           </td><td>RT @LPF_Paris18: #PrimaireLeDebat Dis donc @manuelvalls c'est à coup de #decheancedenationalite et de #49Al3 que tu penses nous sauver? #Mo…</td><td>0                                                                                                                                           </td><td>2017-01-19 22:50:05                                                                                                                         </td><td>FALSE                                                                                                                                       </td><td>8.222146e+17                                                                                                                                </td><td>&lt;a href=\"http://twitter.com/download/android\" rel=\"nofollow\"&gt;Twitter for Android&lt;/a&gt;                                            </td><td>FranceCredible                                                                                                                              </td><td> 6                                                                                                                                          </td><td> TRUE                                                                                                                                       </td><td>FALSE                                                                                                                                       </td></tr>\n",
       "\t<tr><td>6                                                                                                                                                                                   </td><td><span style=white-space:pre-wrap>\"J'ai un progrès précis, crédible, de gauche\", a dit @Vincent_Peillon dans sa conclusion https://t.co/Zs9UHNLcNb… https://t.co/mBtiNvJIAb   </span></td><td>0                                                                                                                                                                                   </td><td>2017-01-19 22:50:05                                                                                                                                                                 </td><td> TRUE                                                                                                                                                                               </td><td>8.222146e+17                                                                                                                                                                        </td><td><span style=white-space:pre-wrap>&lt;a href=\"http://snappytv.com\" rel=\"nofollow\"&gt;SnappyTV.com&lt;/a&gt;                       </span>                                            </td><td><span style=white-space:pre-wrap>Europe1       </span>                                                                                                                              </td><td> 0                                                                                                                                                                                  </td><td>FALSE                                                                                                                                                                               </td><td>FALSE                                                                                                                                                                               </td></tr>\n",
       "</tbody>\n",
       "</table>\n"
      ],
      "text/latex": [
       "\\begin{tabular}{r|lllllllllll}\n",
       " X & text & favoriteCount & created & truncated & id & statusSource & screenName & retweetCount & isRetweet & retweeted\\\\\n",
       "\\hline\n",
       "\t 1                                                                                                                                              & Ce fut un débat intéressnt ! Ccl :Il y'a encore de l'espoir!N'oublions pas qu'un bon président est un président engagé ! \\#PrimaireLeDebat    & 0                                                                                                                                              & 2017-01-19 22:50:06                                                                                                                            & FALSE                                                                                                                                          & 8.222146e+17                                                                                                                                   & <a href=\"http://twitter.com/download/iphone\" rel=\"nofollow\">Twitter for iPhone</a>                                                             & OuAtas                                                                                                                                         &  0                                                                                                                                             & FALSE                                                                                                                                          & FALSE                                                                                                                                         \\\\\n",
       "\t 2                                                                                                                                                  & C'est bon @GoogleFR @TwitterFrance avez vous bien collectés mes données ? Bonne nuit \\#numerique \\#bigdata \\#PrimaireLeDébat                    & 0                                                                                                                                                  & 2017-01-19 22:50:06                                                                                                                                & FALSE                                                                                                                                              & 8.222146e+17                                                                                                                                       & <a href=\"http://twitter.com\" rel=\"nofollow\">Twitter Web Client</a>                                                                                 & WajdiHA2                                                                                                                                           &  0                                                                                                                                                 & FALSE                                                                                                                                              & FALSE                                                                                                                                             \\\\\n",
       "\t 3                                                                                                                                                  & RT @DeLuca\\_Patrice: .@manuelvalls \"Je veux incarner l'espérance, venez voter dimanche!\" \\#AvecValls \\#PrimaireLeDebat                          & 0                                                                                                                                                  & 2017-01-19 22:50:06                                                                                                                                & FALSE                                                                                                                                              & 8.222146e+17                                                                                                                                       & <a href=\"http://www.twitter.com\" rel=\"nofollow\">Twitter for Windows</a>                                                                            & ProvenceValls                                                                                                                                      &  5                                                                                                                                                 &  TRUE                                                                                                                                              & FALSE                                                                                                                                             \\\\\n",
       "\t 4                                                                                                                                                    & RT @DeLuca\\_Patrice: .@manuelvalls \"Nous avons besoin d'une Europe forte et unie\" \\#AvecValls \\#PrimaireLeDebat \\#Valls2017                      & 0                                                                                                                                                    & 2017-01-19 22:50:05                                                                                                                                  & FALSE                                                                                                                                                & 8.222146e+17                                                                                                                                         & <a href=\"http://twitter.com\" rel=\"nofollow\">Twitter Web Client</a>                                                                                   & Jojo29\\_BZH                                                                                                                                         & 10                                                                                                                                                   &  TRUE                                                                                                                                                & FALSE                                                                                                                                               \\\\\n",
       "\t 5                                                                                                                                                      & RT @LPF\\_Paris18: \\#PrimaireLeDebat Dis donc @manuelvalls c'est à coup de \\#decheancedenationalite et de \\#49Al3 que tu penses nous sauver? \\#Mo… & 0                                                                                                                                                      & 2017-01-19 22:50:05                                                                                                                                    & FALSE                                                                                                                                                  & 8.222146e+17                                                                                                                                           & <a href=\"http://twitter.com/download/android\" rel=\"nofollow\">Twitter for Android</a>                                                                   & FranceCredible                                                                                                                                         &  6                                                                                                                                                     &  TRUE                                                                                                                                                  & FALSE                                                                                                                                                 \\\\\n",
       "\t 6                                                                                                                                              & \"J'ai un progrès précis, crédible, de gauche\", a dit @Vincent\\_Peillon dans sa conclusion https://t.co/Zs9UHNLcNb… https://t.co/mBtiNvJIAb    & 0                                                                                                                                              & 2017-01-19 22:50:05                                                                                                                            &  TRUE                                                                                                                                          & 8.222146e+17                                                                                                                                   & <a href=\"http://snappytv.com\" rel=\"nofollow\">SnappyTV.com</a>                                                                                  & Europe1                                                                                                                                        &  0                                                                                                                                             & FALSE                                                                                                                                          & FALSE                                                                                                                                         \\\\\n",
       "\\end{tabular}\n"
      ],
      "text/markdown": [
       "\n",
       "X | text | favoriteCount | created | truncated | id | statusSource | screenName | retweetCount | isRetweet | retweeted | \n",
       "|---|---|---|---|---|---|\n",
       "| 1                                                                                                                                            | Ce fut un débat intéressnt ! Ccl :Il y'a encore de l'espoir!N'oublions pas qu'un bon président est un président engagé ! #PrimaireLeDebat    | 0                                                                                                                                            | 2017-01-19 22:50:06                                                                                                                          | FALSE                                                                                                                                        | 8.222146e+17                                                                                                                                 | <a href=\"http://twitter.com/download/iphone\" rel=\"nofollow\">Twitter for iPhone</a>                                                           | OuAtas                                                                                                                                       |  0                                                                                                                                           | FALSE                                                                                                                                        | FALSE                                                                                                                                        | \n",
       "| 2                                                                                                                                            | C'est bon @GoogleFR @TwitterFrance avez vous bien collectés mes données ? Bonne nuit #numerique #bigdata #PrimaireLeDébat                    | 0                                                                                                                                            | 2017-01-19 22:50:06                                                                                                                          | FALSE                                                                                                                                        | 8.222146e+17                                                                                                                                 | <a href=\"http://twitter.com\" rel=\"nofollow\">Twitter Web Client</a>                                                                           | WajdiHA2                                                                                                                                     |  0                                                                                                                                           | FALSE                                                                                                                                        | FALSE                                                                                                                                        | \n",
       "| 3                                                                                                                                            | RT @DeLuca_Patrice: .@manuelvalls \"Je veux incarner l'espérance, venez voter dimanche!\" #AvecValls #PrimaireLeDebat                          | 0                                                                                                                                            | 2017-01-19 22:50:06                                                                                                                          | FALSE                                                                                                                                        | 8.222146e+17                                                                                                                                 | <a href=\"http://www.twitter.com\" rel=\"nofollow\">Twitter for Windows</a>                                                                      | ProvenceValls                                                                                                                                |  5                                                                                                                                           |  TRUE                                                                                                                                        | FALSE                                                                                                                                        | \n",
       "| 4                                                                                                                                            | RT @DeLuca_Patrice: .@manuelvalls \"Nous avons besoin d'une Europe forte et unie\" #AvecValls #PrimaireLeDebat #Valls2017                      | 0                                                                                                                                            | 2017-01-19 22:50:05                                                                                                                          | FALSE                                                                                                                                        | 8.222146e+17                                                                                                                                 | <a href=\"http://twitter.com\" rel=\"nofollow\">Twitter Web Client</a>                                                                           | Jojo29_BZH                                                                                                                                   | 10                                                                                                                                           |  TRUE                                                                                                                                        | FALSE                                                                                                                                        | \n",
       "| 5                                                                                                                                            | RT @LPF_Paris18: #PrimaireLeDebat Dis donc @manuelvalls c'est à coup de #decheancedenationalite et de #49Al3 que tu penses nous sauver? #Mo… | 0                                                                                                                                            | 2017-01-19 22:50:05                                                                                                                          | FALSE                                                                                                                                        | 8.222146e+17                                                                                                                                 | <a href=\"http://twitter.com/download/android\" rel=\"nofollow\">Twitter for Android</a>                                                         | FranceCredible                                                                                                                               |  6                                                                                                                                           |  TRUE                                                                                                                                        | FALSE                                                                                                                                        | \n",
       "| 6                                                                                                                                            | \"J'ai un progrès précis, crédible, de gauche\", a dit @Vincent_Peillon dans sa conclusion https://t.co/Zs9UHNLcNb… https://t.co/mBtiNvJIAb    | 0                                                                                                                                            | 2017-01-19 22:50:05                                                                                                                          |  TRUE                                                                                                                                        | 8.222146e+17                                                                                                                                 | <a href=\"http://snappytv.com\" rel=\"nofollow\">SnappyTV.com</a>                                                                                | Europe1                                                                                                                                      |  0                                                                                                                                           | FALSE                                                                                                                                        | FALSE                                                                                                                                        | \n",
       "\n",
       "\n"
      ],
      "text/plain": [
       "  X\n",
       "1 1\n",
       "2 2\n",
       "3 3\n",
       "4 4\n",
       "5 5\n",
       "6 6\n",
       "  text                                                                                                                                        \n",
       "1 Ce fut un débat intéressnt ! Ccl :Il y'a encore de l'espoir!N'oublions pas qu'un bon président est un président engagé ! #PrimaireLeDebat   \n",
       "2 C'est bon @GoogleFR @TwitterFrance avez vous bien collectés mes données ? Bonne nuit #numerique #bigdata #PrimaireLeDébat                   \n",
       "3 RT @DeLuca_Patrice: .@manuelvalls \"Je veux incarner l'espérance, venez voter dimanche!\" #AvecValls #PrimaireLeDebat                         \n",
       "4 RT @DeLuca_Patrice: .@manuelvalls \"Nous avons besoin d'une Europe forte et unie\" #AvecValls #PrimaireLeDebat #Valls2017                     \n",
       "5 RT @LPF_Paris18: #PrimaireLeDebat Dis donc @manuelvalls c'est à coup de #decheancedenationalite et de #49Al3 que tu penses nous sauver? #Mo…\n",
       "6 \"J'ai un progrès précis, crédible, de gauche\", a dit @Vincent_Peillon dans sa conclusion https://t.co/Zs9UHNLcNb… https://t.co/mBtiNvJIAb   \n",
       "  favoriteCount created             truncated id          \n",
       "1 0             2017-01-19 22:50:06 FALSE     8.222146e+17\n",
       "2 0             2017-01-19 22:50:06 FALSE     8.222146e+17\n",
       "3 0             2017-01-19 22:50:06 FALSE     8.222146e+17\n",
       "4 0             2017-01-19 22:50:05 FALSE     8.222146e+17\n",
       "5 0             2017-01-19 22:50:05 FALSE     8.222146e+17\n",
       "6 0             2017-01-19 22:50:05  TRUE     8.222146e+17\n",
       "  statusSource                                                                        \n",
       "1 <a href=\"http://twitter.com/download/iphone\" rel=\"nofollow\">Twitter for iPhone</a>  \n",
       "2 <a href=\"http://twitter.com\" rel=\"nofollow\">Twitter Web Client</a>                  \n",
       "3 <a href=\"http://www.twitter.com\" rel=\"nofollow\">Twitter for Windows</a>             \n",
       "4 <a href=\"http://twitter.com\" rel=\"nofollow\">Twitter Web Client</a>                  \n",
       "5 <a href=\"http://twitter.com/download/android\" rel=\"nofollow\">Twitter for Android</a>\n",
       "6 <a href=\"http://snappytv.com\" rel=\"nofollow\">SnappyTV.com</a>                       \n",
       "  screenName     retweetCount isRetweet retweeted\n",
       "1 OuAtas          0           FALSE     FALSE    \n",
       "2 WajdiHA2        0           FALSE     FALSE    \n",
       "3 ProvenceValls   5            TRUE     FALSE    \n",
       "4 Jojo29_BZH     10            TRUE     FALSE    \n",
       "5 FranceCredible  6            TRUE     FALSE    \n",
       "6 Europe1         0           FALSE     FALSE    "
      ]
     },
     "metadata": {},
     "output_type": "display_data"
    }
   ],
   "source": [
    "head(tweets)"
   ]
  },
  {
   "cell_type": "markdown",
   "metadata": {},
   "source": [
    "### If we want to use the text, it have to be cleaned first"
   ]
  },
  {
   "cell_type": "code",
   "execution_count": 219,
   "metadata": {
    "collapsed": false
   },
   "outputs": [],
   "source": [
    "clean_text = function(x)\n",
    "{\n",
    "    #To convert the text in lowercase\n",
    "    try.error = function(z)\n",
    "    {\n",
    "        y = NA\n",
    "        try_error = tryCatch(tolower(z), error=function(e) e)\n",
    "            if (!inherits(try_error, \"error\"))\n",
    "                y = tolower(z)\n",
    "                return(y)\n",
    "    }\n",
    "    x = sapply(x, try.error)\n",
    "            \n",
    "    #remove all links starting by http\n",
    "    x = gsub('http\\\\S+\\\\s*', '', x)\n",
    "            \n",
    "    #remove all words starting by #\n",
    "    x = gsub(\"#\\\\w+ *\", \"\", x)\n",
    "\n",
    "    # remove punctuation except @, #, _, -\n",
    "    x = gsub(\"([@#_-])|[[:punct:]]\", \"\\\\1 \", x)\n",
    "            \n",
    "    # correcting the spaces after the conserved @\n",
    "    x = gsub(\"@ \", \"@\", x)\n",
    "            \n",
    "    # correcting the spaces after the conserved _\n",
    "    x = gsub(\"_ \", \"_\", x)\n",
    "            \n",
    "    # correcting the spaces after the conserved -\n",
    "    x = gsub(\"- \", \"-\", x)\n",
    "    \n",
    "    # remove numbers/Digits\n",
    "    x = gsub(\"[[:digit:]]\", \"\", x)\n",
    "    \n",
    "    # remove tabs\n",
    "    x = gsub(\"[ |\\t]{2,}\", \" \", x)\n",
    "            \n",
    "    # remove blank spaces at the beginning/end\n",
    "    x = gsub(\"^ \", \"\", x)  \n",
    "    x = gsub(\" $\", \"\", x)\n",
    "    \n",
    "    \n",
    "    # As we have already a column indicating if the tweet is a retweet or not \n",
    "    # we can remove \"RT @xxx\" in the tweet header\n",
    "    x = gsub(\"rt @\\\\w+ *\", \"\", x)\n",
    "    x = gsub('\\\\b\\\\w{1,3}\\\\s','', x)\n",
    "            \n",
    "    # remove double spaces\n",
    "    x = gsub(\"  \", \" \", x)\n",
    "    return(x)\n",
    "}"
   ]
  },
  {
   "cell_type": "code",
   "execution_count": 220,
   "metadata": {
    "collapsed": false
   },
   "outputs": [],
   "source": [
    "tweets$text <- clean_text(tweets$text)"
   ]
  },
  {
   "cell_type": "code",
   "execution_count": 221,
   "metadata": {
    "collapsed": false,
    "scrolled": true
   },
   "outputs": [
    {
     "data": {
      "text/html": [
       "<table>\n",
       "<thead><tr><th scope=col>X</th><th scope=col>text</th><th scope=col>favoriteCount</th><th scope=col>created</th><th scope=col>truncated</th><th scope=col>id</th><th scope=col>statusSource</th><th scope=col>screenName</th><th scope=col>retweetCount</th><th scope=col>isRetweet</th><th scope=col>retweeted</th></tr></thead>\n",
       "<tbody>\n",
       "\t<tr><td> 1                                                                                                                                      </td><td><span style=white-space:pre-wrap>débat intéressnt encore espoir oublions président président engagé                     </span>         </td><td>0                                                                                                                                       </td><td>2017-01-19 22:50:06                                                                                                                     </td><td>FALSE                                                                                                                                   </td><td>8.222146e+17                                                                                                                            </td><td><span style=white-space:pre-wrap>&lt;a href=\"http://twitter.com/download/iphone\" rel=\"nofollow\"&gt;Twitter for iPhone&lt;/a&gt;  </span></td><td><span style=white-space:pre-wrap>OuAtas         </span>                                                                                 </td><td><span style=white-space:pre-wrap>  0</span>                                                                                             </td><td>FALSE                                                                                                                                   </td><td>FALSE                                                                                                                                   </td></tr>\n",
       "\t<tr><td> 2                                                                                                                                      </td><td><span style=white-space:pre-wrap>@googlefr @twitterfrance avez vous bien collectés données bonne nuit                   </span>         </td><td>0                                                                                                                                       </td><td>2017-01-19 22:50:06                                                                                                                     </td><td>FALSE                                                                                                                                   </td><td>8.222146e+17                                                                                                                            </td><td><span style=white-space:pre-wrap>&lt;a href=\"http://twitter.com\" rel=\"nofollow\"&gt;Twitter Web Client&lt;/a&gt;                  </span></td><td><span style=white-space:pre-wrap>WajdiHA2       </span>                                                                                 </td><td><span style=white-space:pre-wrap>  0</span>                                                                                             </td><td>FALSE                                                                                                                                   </td><td>FALSE                                                                                                                                   </td></tr>\n",
       "\t<tr><td> 3                                                                                                                                      </td><td><span style=white-space:pre-wrap>@manuelvalls veux incarner espérance venez voter dimanche                              </span>         </td><td>0                                                                                                                                       </td><td>2017-01-19 22:50:06                                                                                                                     </td><td>FALSE                                                                                                                                   </td><td>8.222146e+17                                                                                                                            </td><td><span style=white-space:pre-wrap>&lt;a href=\"http://www.twitter.com\" rel=\"nofollow\"&gt;Twitter for Windows&lt;/a&gt;             </span></td><td><span style=white-space:pre-wrap>ProvenceValls  </span>                                                                                 </td><td><span style=white-space:pre-wrap>  5</span>                                                                                             </td><td> TRUE                                                                                                                                   </td><td>FALSE                                                                                                                                   </td></tr>\n",
       "\t<tr><td> 4                                                                                                                                      </td><td><span style=white-space:pre-wrap>@manuelvalls nous avons besoin europe forte unie                                       </span>         </td><td>0                                                                                                                                       </td><td>2017-01-19 22:50:05                                                                                                                     </td><td>FALSE                                                                                                                                   </td><td>8.222146e+17                                                                                                                            </td><td><span style=white-space:pre-wrap>&lt;a href=\"http://twitter.com\" rel=\"nofollow\"&gt;Twitter Web Client&lt;/a&gt;                  </span></td><td><span style=white-space:pre-wrap>Jojo29_BZH     </span>                                                                                 </td><td> 10                                                                                                                                     </td><td> TRUE                                                                                                                                   </td><td>FALSE                                                                                                                                   </td></tr>\n",
       "\t<tr><td> 5                                                                                                                             </td><td><span style=white-space:pre-wrap>donc @manuelvalls coup penses nous sauver                                              </span></td><td>0                                                                                                                              </td><td>2017-01-19 22:50:05                                                                                                            </td><td>FALSE                                                                                                                          </td><td>8.222146e+17                                                                                                                   </td><td>&lt;a href=\"http://twitter.com/download/android\" rel=\"nofollow\"&gt;Twitter for Android&lt;/a&gt;                               </td><td>FranceCredible                                                                                                                 </td><td><span style=white-space:pre-wrap>  6</span>                                                                                    </td><td> TRUE                                                                                                                          </td><td>FALSE                                                                                                                          </td></tr>\n",
       "\t<tr><td> 6                                                                                                                                      </td><td><span style=white-space:pre-wrap>progrès précis crédible gauche @vincent_peillon dans conclusion                        </span>         </td><td>0                                                                                                                                       </td><td>2017-01-19 22:50:05                                                                                                                     </td><td> TRUE                                                                                                                                   </td><td>8.222146e+17                                                                                                                            </td><td><span style=white-space:pre-wrap>&lt;a href=\"http://snappytv.com\" rel=\"nofollow\"&gt;SnappyTV.com&lt;/a&gt;                       </span></td><td><span style=white-space:pre-wrap>Europe1        </span>                                                                                 </td><td><span style=white-space:pre-wrap>  0</span>                                                                                             </td><td>FALSE                                                                                                                                   </td><td>FALSE                                                                                                                                   </td></tr>\n",
       "\t<tr><td> 7                                                                                                                                      </td><td>paix proche-orient nous devons écouter sociétés prendre initiatives - reconnaissance de                                                 </td><td>0                                                                                                                                       </td><td>2017-01-19 22:50:05                                                                                                                     </td><td>FALSE                                                                                                                                   </td><td>8.222146e+17                                                                                                                            </td><td><span style=white-space:pre-wrap>&lt;a href=\"https://mobile.twitter.com\" rel=\"nofollow\"&gt;Mobile Web (M5)&lt;/a&gt;             </span></td><td><span style=white-space:pre-wrap>delpeyrat      </span>                                                                                 </td><td>225                                                                                                                                     </td><td> TRUE                                                                                                                                   </td><td>FALSE                                                                                                                                   </td></tr>\n",
       "\t<tr><td> 8                                                                                                                             </td><td><span style=white-space:pre-wrap>contours programme restent flous ailleurs                                              </span></td><td>0                                                                                                                              </td><td>2017-01-19 22:50:05                                                                                                            </td><td>FALSE                                                                                                                          </td><td>8.222146e+17                                                                                                                   </td><td>&lt;a href=\"http://twitter.com/download/android\" rel=\"nofollow\"&gt;Twitter for Android&lt;/a&gt;                               </td><td><span style=white-space:pre-wrap>NouetDom       </span>                                                                        </td><td><span style=white-space:pre-wrap>  5</span>                                                                                    </td><td> TRUE                                                                                                                          </td><td>FALSE                                                                                                                          </td></tr>\n",
       "\t<tr><td> 9                                                                                                                                      </td><td><span style=white-space:pre-wrap>après plaies egypte français droit soir plaies france                                  </span>         </td><td>0                                                                                                                                       </td><td>2017-01-19 22:50:05                                                                                                                     </td><td>FALSE                                                                                                                                   </td><td>8.222146e+17                                                                                                                            </td><td><span style=white-space:pre-wrap>&lt;a href=\"https://mobile.twitter.com\" rel=\"nofollow\"&gt;Mobile Web (M5)&lt;/a&gt;             </span></td><td><span style=white-space:pre-wrap>delhoume7      </span>                                                                                 </td><td> 20                                                                                                                                     </td><td> TRUE                                                                                                                                   </td><td>FALSE                                                                                                                                   </td></tr>\n",
       "\t<tr><td>10                                                                                                                                      </td><td><span style=white-space:pre-wrap>voilà pourquoi voter pour dimanche                                                     </span>         </td><td>0                                                                                                                                       </td><td>2017-01-19 22:50:05                                                                                                                     </td><td>FALSE                                                                                                                                   </td><td>8.222146e+17                                                                                                                            </td><td><span style=white-space:pre-wrap>&lt;a href=\"http://twitter.com\" rel=\"nofollow\"&gt;Twitter Web Client&lt;/a&gt;                  </span></td><td><span style=white-space:pre-wrap>antoinehb      </span>                                                                                 </td><td><span style=white-space:pre-wrap>  0</span>                                                                                             </td><td>FALSE                                                                                                                                   </td><td>FALSE                                                                                                                                   </td></tr>\n",
       "\t<tr><td>11                                                                                                                                      </td><td><span style=white-space:pre-wrap>comme @benoithamon compte vous \n",
       "                                                      </span>         </td><td>0                                                                                                                                       </td><td>2017-01-19 22:50:05                                                                                                                     </td><td>FALSE                                                                                                                                   </td><td>8.222146e+17                                                                                                                            </td><td><span style=white-space:pre-wrap>&lt;a href=\"http://twitter.com\" rel=\"nofollow\"&gt;Twitter Web Client&lt;/a&gt;                  </span></td><td><span style=white-space:pre-wrap>sebjan         </span>                                                                                 </td><td><span style=white-space:pre-wrap>  0</span>                                                                                             </td><td>FALSE                                                                                                                                   </td><td>FALSE                                                                                                                                   </td></tr>\n",
       "\t<tr><td>12                                                                                                                                      </td><td><span style=white-space:pre-wrap>parler tous français                                                                   </span>         </td><td>0                                                                                                                                       </td><td>2017-01-19 22:50:04                                                                                                                     </td><td>FALSE                                                                                                                                   </td><td>8.222146e+17                                                                                                                            </td><td><span style=white-space:pre-wrap>&lt;a href=\"http://twitter.com/download/iphone\" rel=\"nofollow\"&gt;Twitter for iPhone&lt;/a&gt;  </span></td><td>julie_oliveira6                                                                                                                         </td><td><span style=white-space:pre-wrap>  4</span>                                                                                             </td><td> TRUE                                                                                                                                   </td><td>FALSE                                                                                                                                   </td></tr>\n",
       "\t<tr><td>13                                                                                                                             </td><td><span style=white-space:pre-wrap>veux comme majorité français droit mourir dans dignité permettant euthanas             </span></td><td>0                                                                                                                              </td><td>2017-01-19 22:50:04                                                                                                            </td><td>FALSE                                                                                                                          </td><td>8.222146e+17                                                                                                                   </td><td>&lt;a href=\"http://twitter.com/download/android\" rel=\"nofollow\"&gt;Twitter for Android&lt;/a&gt;                               </td><td><span style=white-space:pre-wrap>Seb_Saldes     </span>                                                                        </td><td>266                                                                                                                            </td><td> TRUE                                                                                                                          </td><td>FALSE                                                                                                                          </td></tr>\n",
       "\t<tr><td>14                                                                                                                                      </td><td><span style=white-space:pre-wrap>beaucoup moins attrayant primaire droite comme affiche équipes milieu tableau          </span>         </td><td>0                                                                                                                                       </td><td>2017-01-19 22:50:04                                                                                                                     </td><td>FALSE                                                                                                                                   </td><td>8.222146e+17                                                                                                                            </td><td><span style=white-space:pre-wrap>&lt;a href=\"http://twitter.com/download/iphone\" rel=\"nofollow\"&gt;Twitter for iPhone&lt;/a&gt;  </span></td><td><span style=white-space:pre-wrap>l_intermedia   </span>                                                                                 </td><td><span style=white-space:pre-wrap>  0</span>                                                                                             </td><td>FALSE                                                                                                                                   </td><td>FALSE                                                                                                                                   </td></tr>\n",
       "\t<tr><td>15                                                                                                                             </td><td><span style=white-space:pre-wrap>veux incarner espérance venez voter dimanche                                           </span></td><td>0                                                                                                                              </td><td>2017-01-19 22:50:02                                                                                                            </td><td>FALSE                                                                                                                          </td><td>8.222146e+17                                                                                                                   </td><td>&lt;a href=\"http://twitter.com/download/android\" rel=\"nofollow\"&gt;Twitter for Android&lt;/a&gt;                               </td><td><span style=white-space:pre-wrap>olivierpost    </span>                                                                        </td><td> 19                                                                                                                            </td><td> TRUE                                                                                                                          </td><td>FALSE                                                                                                                          </td></tr>\n",
       "\t<tr><td>16                                                                                                                                      </td><td>paix proche-orient nous devons écouter sociétés prendre initiatives - reconnaissance de                                                 </td><td>0                                                                                                                                       </td><td>2017-01-19 22:50:01                                                                                                                     </td><td>FALSE                                                                                                                                   </td><td>8.222146e+17                                                                                                                            </td><td><span style=white-space:pre-wrap>&lt;a href=\"http://twitter.com/download/iphone\" rel=\"nofollow\"&gt;Twitter for iPhone&lt;/a&gt;  </span></td><td><span style=white-space:pre-wrap>thaSinay       </span>                                                                                 </td><td>225                                                                                                                                     </td><td> TRUE                                                                                                                                   </td><td>FALSE                                                                                                                                   </td></tr>\n",
       "\t<tr><td>17                                                                                                                                      </td><td><span style=white-space:pre-wrap>dans tête jean-benhamias                                                               </span>         </td><td>0                                                                                                                                       </td><td>2017-01-19 22:50:01                                                                                                                     </td><td>FALSE                                                                                                                                   </td><td>8.222146e+17                                                                                                                            </td><td><span style=white-space:pre-wrap>&lt;a href=\"http://twitter.com/#!/download/ipad\" rel=\"nofollow\"&gt;Twitter for iPad&lt;/a&gt;   </span></td><td>adrenaline1001                                                                                                                          </td><td> 75                                                                                                                                     </td><td> TRUE                                                                                                                                   </td><td>FALSE                                                                                                                                   </td></tr>\n",
       "\t<tr><td>18                                                                                                                                      </td><td><span style=white-space:pre-wrap>@vincent_peillon retrouvez fierté être gauche                                          </span>         </td><td>0                                                                                                                                       </td><td>2017-01-19 22:50:01                                                                                                                     </td><td>FALSE                                                                                                                                   </td><td>8.222146e+17                                                                                                                            </td><td><span style=white-space:pre-wrap>&lt;a href=\"http://twitter.com/download/iphone\" rel=\"nofollow\"&gt;Twitter for iPhone&lt;/a&gt;  </span></td><td>gillespargneaux                                                                                                                         </td><td> 14                                                                                                                                     </td><td> TRUE                                                                                                                                   </td><td>FALSE                                                                                                                                   </td></tr>\n",
       "\t<tr><td>19                                                                                                                             </td><td><span style=white-space:pre-wrap>veux renforcer contrainte pénale services insertion probation pour combattre efficac   </span></td><td>0                                                                                                                              </td><td>2017-01-19 22:50:01                                                                                                            </td><td>FALSE                                                                                                                          </td><td>8.222146e+17                                                                                                                   </td><td>&lt;a href=\"http://twitter.com/download/android\" rel=\"nofollow\"&gt;Twitter for Android&lt;/a&gt;                               </td><td><span style=white-space:pre-wrap>Seb_Saldes     </span>                                                                        </td><td>172                                                                                                                            </td><td> TRUE                                                                                                                          </td><td>FALSE                                                                                                                          </td></tr>\n",
       "\t<tr><td>20                                                                                                                             </td><td><span style=white-space:pre-wrap>macron enfant prodige reviendra                                                        </span></td><td>0                                                                                                                              </td><td>2017-01-19 22:50:01                                                                                                            </td><td>FALSE                                                                                                                          </td><td>8.222146e+17                                                                                                                   </td><td>&lt;a href=\"http://twitter.com/download/android\" rel=\"nofollow\"&gt;Twitter for Android&lt;/a&gt;                               </td><td><span style=white-space:pre-wrap>Sol121Nadia    </span>                                                                        </td><td> 12                                                                                                                            </td><td> TRUE                                                                                                                          </td><td>FALSE                                                                                                                          </td></tr>\n",
       "</tbody>\n",
       "</table>\n"
      ],
      "text/latex": [
       "\\begin{tabular}{r|lllllllllll}\n",
       " X & text & favoriteCount & created & truncated & id & statusSource & screenName & retweetCount & isRetweet & retweeted\\\\\n",
       "\\hline\n",
       "\t  1                                                                                      & débat intéressnt encore espoir oublions président président engagé                      & 0                                                                                       & 2017-01-19 22:50:06                                                                     & FALSE                                                                                   & 8.222146e+17                                                                            & <a href=\"http://twitter.com/download/iphone\" rel=\"nofollow\">Twitter for iPhone</a>      & OuAtas                                                                                  &   0                                                                                     & FALSE                                                                                   & FALSE                                                                                  \\\\\n",
       "\t  2                                                                                      & @googlefr @twitterfrance avez vous bien collectés données bonne nuit                    & 0                                                                                       & 2017-01-19 22:50:06                                                                     & FALSE                                                                                   & 8.222146e+17                                                                            & <a href=\"http://twitter.com\" rel=\"nofollow\">Twitter Web Client</a>                      & WajdiHA2                                                                                &   0                                                                                     & FALSE                                                                                   & FALSE                                                                                  \\\\\n",
       "\t  3                                                                                      & @manuelvalls veux incarner espérance venez voter dimanche                               & 0                                                                                       & 2017-01-19 22:50:06                                                                     & FALSE                                                                                   & 8.222146e+17                                                                            & <a href=\"http://www.twitter.com\" rel=\"nofollow\">Twitter for Windows</a>                 & ProvenceValls                                                                           &   5                                                                                     &  TRUE                                                                                   & FALSE                                                                                  \\\\\n",
       "\t  4                                                                                      & @manuelvalls nous avons besoin europe forte unie                                        & 0                                                                                       & 2017-01-19 22:50:05                                                                     & FALSE                                                                                   & 8.222146e+17                                                                            & <a href=\"http://twitter.com\" rel=\"nofollow\">Twitter Web Client</a>                      & Jojo29\\_BZH                                                                            &  10                                                                                     &  TRUE                                                                                   & FALSE                                                                                  \\\\\n",
       "\t  5                                                                                      & donc @manuelvalls coup penses nous sauver                                               & 0                                                                                       & 2017-01-19 22:50:05                                                                     & FALSE                                                                                   & 8.222146e+17                                                                            & <a href=\"http://twitter.com/download/android\" rel=\"nofollow\">Twitter for Android</a>    & FranceCredible                                                                          &   6                                                                                     &  TRUE                                                                                   & FALSE                                                                                  \\\\\n",
       "\t  6                                                                                        & progrès précis crédible gauche @vincent\\_peillon dans conclusion                         & 0                                                                                         & 2017-01-19 22:50:05                                                                       &  TRUE                                                                                     & 8.222146e+17                                                                              & <a href=\"http://snappytv.com\" rel=\"nofollow\">SnappyTV.com</a>                             & Europe1                                                                                   &   0                                                                                       & FALSE                                                                                     & FALSE                                                                                    \\\\\n",
       "\t  7                                                                                      & paix proche-orient nous devons écouter sociétés prendre initiatives - reconnaissance de & 0                                                                                       & 2017-01-19 22:50:05                                                                     & FALSE                                                                                   & 8.222146e+17                                                                            & <a href=\"https://mobile.twitter.com\" rel=\"nofollow\">Mobile Web (M5)</a>                 & delpeyrat                                                                               & 225                                                                                     &  TRUE                                                                                   & FALSE                                                                                  \\\\\n",
       "\t  8                                                                                      & contours programme restent flous ailleurs                                               & 0                                                                                       & 2017-01-19 22:50:05                                                                     & FALSE                                                                                   & 8.222146e+17                                                                            & <a href=\"http://twitter.com/download/android\" rel=\"nofollow\">Twitter for Android</a>    & NouetDom                                                                                &   5                                                                                     &  TRUE                                                                                   & FALSE                                                                                  \\\\\n",
       "\t  9                                                                                      & après plaies egypte français droit soir plaies france                                   & 0                                                                                       & 2017-01-19 22:50:05                                                                     & FALSE                                                                                   & 8.222146e+17                                                                            & <a href=\"https://mobile.twitter.com\" rel=\"nofollow\">Mobile Web (M5)</a>                 & delhoume7                                                                               &  20                                                                                     &  TRUE                                                                                   & FALSE                                                                                  \\\\\n",
       "\t 10                                                                                      & voilà pourquoi voter pour dimanche                                                      & 0                                                                                       & 2017-01-19 22:50:05                                                                     & FALSE                                                                                   & 8.222146e+17                                                                            & <a href=\"http://twitter.com\" rel=\"nofollow\">Twitter Web Client</a>                      & antoinehb                                                                               &   0                                                                                     & FALSE                                                                                   & FALSE                                                                                  \\\\\n",
       "\t 11                                                                                      & comme @benoithamon compte vous \n",
       "                                                       & 0                                                                                       & 2017-01-19 22:50:05                                                                     & FALSE                                                                                   & 8.222146e+17                                                                            & <a href=\"http://twitter.com\" rel=\"nofollow\">Twitter Web Client</a>                      & sebjan                                                                                  &   0                                                                                     & FALSE                                                                                   & FALSE                                                                                  \\\\\n",
       "\t 12                                                                                      & parler tous français                                                                    & 0                                                                                       & 2017-01-19 22:50:04                                                                     & FALSE                                                                                   & 8.222146e+17                                                                            & <a href=\"http://twitter.com/download/iphone\" rel=\"nofollow\">Twitter for iPhone</a>      & julie\\_oliveira6                                                                       &   4                                                                                     &  TRUE                                                                                   & FALSE                                                                                  \\\\\n",
       "\t 13                                                                                      & veux comme majorité français droit mourir dans dignité permettant euthanas              & 0                                                                                       & 2017-01-19 22:50:04                                                                     & FALSE                                                                                   & 8.222146e+17                                                                            & <a href=\"http://twitter.com/download/android\" rel=\"nofollow\">Twitter for Android</a>    & Seb\\_Saldes                                                                            & 266                                                                                     &  TRUE                                                                                   & FALSE                                                                                  \\\\\n",
       "\t 14                                                                                      & beaucoup moins attrayant primaire droite comme affiche équipes milieu tableau           & 0                                                                                       & 2017-01-19 22:50:04                                                                     & FALSE                                                                                   & 8.222146e+17                                                                            & <a href=\"http://twitter.com/download/iphone\" rel=\"nofollow\">Twitter for iPhone</a>      & l\\_intermedia                                                                          &   0                                                                                     & FALSE                                                                                   & FALSE                                                                                  \\\\\n",
       "\t 15                                                                                      & veux incarner espérance venez voter dimanche                                            & 0                                                                                       & 2017-01-19 22:50:02                                                                     & FALSE                                                                                   & 8.222146e+17                                                                            & <a href=\"http://twitter.com/download/android\" rel=\"nofollow\">Twitter for Android</a>    & olivierpost                                                                             &  19                                                                                     &  TRUE                                                                                   & FALSE                                                                                  \\\\\n",
       "\t 16                                                                                      & paix proche-orient nous devons écouter sociétés prendre initiatives - reconnaissance de & 0                                                                                       & 2017-01-19 22:50:01                                                                     & FALSE                                                                                   & 8.222146e+17                                                                            & <a href=\"http://twitter.com/download/iphone\" rel=\"nofollow\">Twitter for iPhone</a>      & thaSinay                                                                                & 225                                                                                     &  TRUE                                                                                   & FALSE                                                                                  \\\\\n",
       "\t 17                                                                                      & dans tête jean-benhamias                                                                & 0                                                                                       & 2017-01-19 22:50:01                                                                     & FALSE                                                                                   & 8.222146e+17                                                                            & <a href=\"http://twitter.com/\\#!/download/ipad\" rel=\"nofollow\">Twitter for iPad</a>     & adrenaline1001                                                                          &  75                                                                                     &  TRUE                                                                                   & FALSE                                                                                  \\\\\n",
       "\t 18                                                                                        & @vincent\\_peillon retrouvez fierté être gauche                                           & 0                                                                                         & 2017-01-19 22:50:01                                                                       & FALSE                                                                                     & 8.222146e+17                                                                              & <a href=\"http://twitter.com/download/iphone\" rel=\"nofollow\">Twitter for iPhone</a>        & gillespargneaux                                                                           &  14                                                                                       &  TRUE                                                                                     & FALSE                                                                                    \\\\\n",
       "\t 19                                                                                      & veux renforcer contrainte pénale services insertion probation pour combattre efficac    & 0                                                                                       & 2017-01-19 22:50:01                                                                     & FALSE                                                                                   & 8.222146e+17                                                                            & <a href=\"http://twitter.com/download/android\" rel=\"nofollow\">Twitter for Android</a>    & Seb\\_Saldes                                                                            & 172                                                                                     &  TRUE                                                                                   & FALSE                                                                                  \\\\\n",
       "\t 20                                                                                      & macron enfant prodige reviendra                                                         & 0                                                                                       & 2017-01-19 22:50:01                                                                     & FALSE                                                                                   & 8.222146e+17                                                                            & <a href=\"http://twitter.com/download/android\" rel=\"nofollow\">Twitter for Android</a>    & Sol121Nadia                                                                             &  12                                                                                     &  TRUE                                                                                   & FALSE                                                                                  \\\\\n",
       "\\end{tabular}\n"
      ],
      "text/markdown": [
       "\n",
       "X | text | favoriteCount | created | truncated | id | statusSource | screenName | retweetCount | isRetweet | retweeted | \n",
       "|---|---|---|---|---|---|---|---|---|---|---|---|---|---|---|---|---|---|---|---|\n",
       "|  1                                                                                      | débat intéressnt encore espoir oublions président président engagé                      | 0                                                                                       | 2017-01-19 22:50:06                                                                     | FALSE                                                                                   | 8.222146e+17                                                                            | <a href=\"http://twitter.com/download/iphone\" rel=\"nofollow\">Twitter for iPhone</a>      | OuAtas                                                                                  |   0                                                                                     | FALSE                                                                                   | FALSE                                                                                   | \n",
       "|  2                                                                                      | @googlefr @twitterfrance avez vous bien collectés données bonne nuit                    | 0                                                                                       | 2017-01-19 22:50:06                                                                     | FALSE                                                                                   | 8.222146e+17                                                                            | <a href=\"http://twitter.com\" rel=\"nofollow\">Twitter Web Client</a>                      | WajdiHA2                                                                                |   0                                                                                     | FALSE                                                                                   | FALSE                                                                                   | \n",
       "|  3                                                                                      | @manuelvalls veux incarner espérance venez voter dimanche                               | 0                                                                                       | 2017-01-19 22:50:06                                                                     | FALSE                                                                                   | 8.222146e+17                                                                            | <a href=\"http://www.twitter.com\" rel=\"nofollow\">Twitter for Windows</a>                 | ProvenceValls                                                                           |   5                                                                                     |  TRUE                                                                                   | FALSE                                                                                   | \n",
       "|  4                                                                                      | @manuelvalls nous avons besoin europe forte unie                                        | 0                                                                                       | 2017-01-19 22:50:05                                                                     | FALSE                                                                                   | 8.222146e+17                                                                            | <a href=\"http://twitter.com\" rel=\"nofollow\">Twitter Web Client</a>                      | Jojo29_BZH                                                                              |  10                                                                                     |  TRUE                                                                                   | FALSE                                                                                   | \n",
       "|  5                                                                                      | donc @manuelvalls coup penses nous sauver                                               | 0                                                                                       | 2017-01-19 22:50:05                                                                     | FALSE                                                                                   | 8.222146e+17                                                                            | <a href=\"http://twitter.com/download/android\" rel=\"nofollow\">Twitter for Android</a>    | FranceCredible                                                                          |   6                                                                                     |  TRUE                                                                                   | FALSE                                                                                   | \n",
       "|  6                                                                                      | progrès précis crédible gauche @vincent_peillon dans conclusion                         | 0                                                                                       | 2017-01-19 22:50:05                                                                     |  TRUE                                                                                   | 8.222146e+17                                                                            | <a href=\"http://snappytv.com\" rel=\"nofollow\">SnappyTV.com</a>                           | Europe1                                                                                 |   0                                                                                     | FALSE                                                                                   | FALSE                                                                                   | \n",
       "|  7                                                                                      | paix proche-orient nous devons écouter sociétés prendre initiatives - reconnaissance de | 0                                                                                       | 2017-01-19 22:50:05                                                                     | FALSE                                                                                   | 8.222146e+17                                                                            | <a href=\"https://mobile.twitter.com\" rel=\"nofollow\">Mobile Web (M5)</a>                 | delpeyrat                                                                               | 225                                                                                     |  TRUE                                                                                   | FALSE                                                                                   | \n",
       "|  8                                                                                      | contours programme restent flous ailleurs                                               | 0                                                                                       | 2017-01-19 22:50:05                                                                     | FALSE                                                                                   | 8.222146e+17                                                                            | <a href=\"http://twitter.com/download/android\" rel=\"nofollow\">Twitter for Android</a>    | NouetDom                                                                                |   5                                                                                     |  TRUE                                                                                   | FALSE                                                                                   | \n",
       "|  9                                                                                      | après plaies egypte français droit soir plaies france                                   | 0                                                                                       | 2017-01-19 22:50:05                                                                     | FALSE                                                                                   | 8.222146e+17                                                                            | <a href=\"https://mobile.twitter.com\" rel=\"nofollow\">Mobile Web (M5)</a>                 | delhoume7                                                                               |  20                                                                                     |  TRUE                                                                                   | FALSE                                                                                   | \n",
       "| 10                                                                                      | voilà pourquoi voter pour dimanche                                                      | 0                                                                                       | 2017-01-19 22:50:05                                                                     | FALSE                                                                                   | 8.222146e+17                                                                            | <a href=\"http://twitter.com\" rel=\"nofollow\">Twitter Web Client</a>                      | antoinehb                                                                               |   0                                                                                     | FALSE                                                                                   | FALSE                                                                                   | \n",
       "| 11                                                                                      | comme @benoithamon compte vous \n",
       "                                                       | 0                                                                                       | 2017-01-19 22:50:05                                                                     | FALSE                                                                                   | 8.222146e+17                                                                            | <a href=\"http://twitter.com\" rel=\"nofollow\">Twitter Web Client</a>                      | sebjan                                                                                  |   0                                                                                     | FALSE                                                                                   | FALSE                                                                                   | \n",
       "| 12                                                                                      | parler tous français                                                                    | 0                                                                                       | 2017-01-19 22:50:04                                                                     | FALSE                                                                                   | 8.222146e+17                                                                            | <a href=\"http://twitter.com/download/iphone\" rel=\"nofollow\">Twitter for iPhone</a>      | julie_oliveira6                                                                         |   4                                                                                     |  TRUE                                                                                   | FALSE                                                                                   | \n",
       "| 13                                                                                      | veux comme majorité français droit mourir dans dignité permettant euthanas              | 0                                                                                       | 2017-01-19 22:50:04                                                                     | FALSE                                                                                   | 8.222146e+17                                                                            | <a href=\"http://twitter.com/download/android\" rel=\"nofollow\">Twitter for Android</a>    | Seb_Saldes                                                                              | 266                                                                                     |  TRUE                                                                                   | FALSE                                                                                   | \n",
       "| 14                                                                                      | beaucoup moins attrayant primaire droite comme affiche équipes milieu tableau           | 0                                                                                       | 2017-01-19 22:50:04                                                                     | FALSE                                                                                   | 8.222146e+17                                                                            | <a href=\"http://twitter.com/download/iphone\" rel=\"nofollow\">Twitter for iPhone</a>      | l_intermedia                                                                            |   0                                                                                     | FALSE                                                                                   | FALSE                                                                                   | \n",
       "| 15                                                                                      | veux incarner espérance venez voter dimanche                                            | 0                                                                                       | 2017-01-19 22:50:02                                                                     | FALSE                                                                                   | 8.222146e+17                                                                            | <a href=\"http://twitter.com/download/android\" rel=\"nofollow\">Twitter for Android</a>    | olivierpost                                                                             |  19                                                                                     |  TRUE                                                                                   | FALSE                                                                                   | \n",
       "| 16                                                                                      | paix proche-orient nous devons écouter sociétés prendre initiatives - reconnaissance de | 0                                                                                       | 2017-01-19 22:50:01                                                                     | FALSE                                                                                   | 8.222146e+17                                                                            | <a href=\"http://twitter.com/download/iphone\" rel=\"nofollow\">Twitter for iPhone</a>      | thaSinay                                                                                | 225                                                                                     |  TRUE                                                                                   | FALSE                                                                                   | \n",
       "| 17                                                                                      | dans tête jean-benhamias                                                                | 0                                                                                       | 2017-01-19 22:50:01                                                                     | FALSE                                                                                   | 8.222146e+17                                                                            | <a href=\"http://twitter.com/#!/download/ipad\" rel=\"nofollow\">Twitter for iPad</a>       | adrenaline1001                                                                          |  75                                                                                     |  TRUE                                                                                   | FALSE                                                                                   | \n",
       "| 18                                                                                      | @vincent_peillon retrouvez fierté être gauche                                           | 0                                                                                       | 2017-01-19 22:50:01                                                                     | FALSE                                                                                   | 8.222146e+17                                                                            | <a href=\"http://twitter.com/download/iphone\" rel=\"nofollow\">Twitter for iPhone</a>      | gillespargneaux                                                                         |  14                                                                                     |  TRUE                                                                                   | FALSE                                                                                   | \n",
       "| 19                                                                                      | veux renforcer contrainte pénale services insertion probation pour combattre efficac    | 0                                                                                       | 2017-01-19 22:50:01                                                                     | FALSE                                                                                   | 8.222146e+17                                                                            | <a href=\"http://twitter.com/download/android\" rel=\"nofollow\">Twitter for Android</a>    | Seb_Saldes                                                                              | 172                                                                                     |  TRUE                                                                                   | FALSE                                                                                   | \n",
       "| 20                                                                                      | macron enfant prodige reviendra                                                         | 0                                                                                       | 2017-01-19 22:50:01                                                                     | FALSE                                                                                   | 8.222146e+17                                                                            | <a href=\"http://twitter.com/download/android\" rel=\"nofollow\">Twitter for Android</a>    | Sol121Nadia                                                                             |  12                                                                                     |  TRUE                                                                                   | FALSE                                                                                   | \n",
       "\n",
       "\n"
      ],
      "text/plain": [
       "   X \n",
       "1   1\n",
       "2   2\n",
       "3   3\n",
       "4   4\n",
       "5   5\n",
       "6   6\n",
       "7   7\n",
       "8   8\n",
       "9   9\n",
       "10 10\n",
       "11 11\n",
       "12 12\n",
       "13 13\n",
       "14 14\n",
       "15 15\n",
       "16 16\n",
       "17 17\n",
       "18 18\n",
       "19 19\n",
       "20 20\n",
       "   text                                                                                   \n",
       "1  débat intéressnt encore espoir oublions président président engagé                     \n",
       "2  @googlefr @twitterfrance avez vous bien collectés données bonne nuit                   \n",
       "3  @manuelvalls veux incarner espérance venez voter dimanche                              \n",
       "4  @manuelvalls nous avons besoin europe forte unie                                       \n",
       "5  donc @manuelvalls coup penses nous sauver                                              \n",
       "6  progrès précis crédible gauche @vincent_peillon dans conclusion                        \n",
       "7  paix proche-orient nous devons écouter sociétés prendre initiatives - reconnaissance de\n",
       "8  contours programme restent flous ailleurs                                              \n",
       "9  après plaies egypte français droit soir plaies france                                  \n",
       "10 voilà pourquoi voter pour dimanche                                                     \n",
       "11 comme @benoithamon compte vous \\n                                                      \n",
       "12 parler tous français                                                                   \n",
       "13 veux comme majorité français droit mourir dans dignité permettant euthanas             \n",
       "14 beaucoup moins attrayant primaire droite comme affiche équipes milieu tableau          \n",
       "15 veux incarner espérance venez voter dimanche                                           \n",
       "16 paix proche-orient nous devons écouter sociétés prendre initiatives - reconnaissance de\n",
       "17 dans tête jean-benhamias                                                               \n",
       "18 @vincent_peillon retrouvez fierté être gauche                                          \n",
       "19 veux renforcer contrainte pénale services insertion probation pour combattre efficac   \n",
       "20 macron enfant prodige reviendra                                                        \n",
       "   favoriteCount created             truncated id          \n",
       "1  0             2017-01-19 22:50:06 FALSE     8.222146e+17\n",
       "2  0             2017-01-19 22:50:06 FALSE     8.222146e+17\n",
       "3  0             2017-01-19 22:50:06 FALSE     8.222146e+17\n",
       "4  0             2017-01-19 22:50:05 FALSE     8.222146e+17\n",
       "5  0             2017-01-19 22:50:05 FALSE     8.222146e+17\n",
       "6  0             2017-01-19 22:50:05  TRUE     8.222146e+17\n",
       "7  0             2017-01-19 22:50:05 FALSE     8.222146e+17\n",
       "8  0             2017-01-19 22:50:05 FALSE     8.222146e+17\n",
       "9  0             2017-01-19 22:50:05 FALSE     8.222146e+17\n",
       "10 0             2017-01-19 22:50:05 FALSE     8.222146e+17\n",
       "11 0             2017-01-19 22:50:05 FALSE     8.222146e+17\n",
       "12 0             2017-01-19 22:50:04 FALSE     8.222146e+17\n",
       "13 0             2017-01-19 22:50:04 FALSE     8.222146e+17\n",
       "14 0             2017-01-19 22:50:04 FALSE     8.222146e+17\n",
       "15 0             2017-01-19 22:50:02 FALSE     8.222146e+17\n",
       "16 0             2017-01-19 22:50:01 FALSE     8.222146e+17\n",
       "17 0             2017-01-19 22:50:01 FALSE     8.222146e+17\n",
       "18 0             2017-01-19 22:50:01 FALSE     8.222146e+17\n",
       "19 0             2017-01-19 22:50:01 FALSE     8.222146e+17\n",
       "20 0             2017-01-19 22:50:01 FALSE     8.222146e+17\n",
       "   statusSource                                                                        \n",
       "1  <a href=\"http://twitter.com/download/iphone\" rel=\"nofollow\">Twitter for iPhone</a>  \n",
       "2  <a href=\"http://twitter.com\" rel=\"nofollow\">Twitter Web Client</a>                  \n",
       "3  <a href=\"http://www.twitter.com\" rel=\"nofollow\">Twitter for Windows</a>             \n",
       "4  <a href=\"http://twitter.com\" rel=\"nofollow\">Twitter Web Client</a>                  \n",
       "5  <a href=\"http://twitter.com/download/android\" rel=\"nofollow\">Twitter for Android</a>\n",
       "6  <a href=\"http://snappytv.com\" rel=\"nofollow\">SnappyTV.com</a>                       \n",
       "7  <a href=\"https://mobile.twitter.com\" rel=\"nofollow\">Mobile Web (M5)</a>             \n",
       "8  <a href=\"http://twitter.com/download/android\" rel=\"nofollow\">Twitter for Android</a>\n",
       "9  <a href=\"https://mobile.twitter.com\" rel=\"nofollow\">Mobile Web (M5)</a>             \n",
       "10 <a href=\"http://twitter.com\" rel=\"nofollow\">Twitter Web Client</a>                  \n",
       "11 <a href=\"http://twitter.com\" rel=\"nofollow\">Twitter Web Client</a>                  \n",
       "12 <a href=\"http://twitter.com/download/iphone\" rel=\"nofollow\">Twitter for iPhone</a>  \n",
       "13 <a href=\"http://twitter.com/download/android\" rel=\"nofollow\">Twitter for Android</a>\n",
       "14 <a href=\"http://twitter.com/download/iphone\" rel=\"nofollow\">Twitter for iPhone</a>  \n",
       "15 <a href=\"http://twitter.com/download/android\" rel=\"nofollow\">Twitter for Android</a>\n",
       "16 <a href=\"http://twitter.com/download/iphone\" rel=\"nofollow\">Twitter for iPhone</a>  \n",
       "17 <a href=\"http://twitter.com/#!/download/ipad\" rel=\"nofollow\">Twitter for iPad</a>   \n",
       "18 <a href=\"http://twitter.com/download/iphone\" rel=\"nofollow\">Twitter for iPhone</a>  \n",
       "19 <a href=\"http://twitter.com/download/android\" rel=\"nofollow\">Twitter for Android</a>\n",
       "20 <a href=\"http://twitter.com/download/android\" rel=\"nofollow\">Twitter for Android</a>\n",
       "   screenName      retweetCount isRetweet retweeted\n",
       "1  OuAtas            0          FALSE     FALSE    \n",
       "2  WajdiHA2          0          FALSE     FALSE    \n",
       "3  ProvenceValls     5           TRUE     FALSE    \n",
       "4  Jojo29_BZH       10           TRUE     FALSE    \n",
       "5  FranceCredible    6           TRUE     FALSE    \n",
       "6  Europe1           0          FALSE     FALSE    \n",
       "7  delpeyrat       225           TRUE     FALSE    \n",
       "8  NouetDom          5           TRUE     FALSE    \n",
       "9  delhoume7        20           TRUE     FALSE    \n",
       "10 antoinehb         0          FALSE     FALSE    \n",
       "11 sebjan            0          FALSE     FALSE    \n",
       "12 julie_oliveira6   4           TRUE     FALSE    \n",
       "13 Seb_Saldes      266           TRUE     FALSE    \n",
       "14 l_intermedia      0          FALSE     FALSE    \n",
       "15 olivierpost      19           TRUE     FALSE    \n",
       "16 thaSinay        225           TRUE     FALSE    \n",
       "17 adrenaline1001   75           TRUE     FALSE    \n",
       "18 gillespargneaux  14           TRUE     FALSE    \n",
       "19 Seb_Saldes      172           TRUE     FALSE    \n",
       "20 Sol121Nadia      12           TRUE     FALSE    "
      ]
     },
     "metadata": {},
     "output_type": "display_data"
    }
   ],
   "source": [
    "head(tweets, n = 20)"
   ]
  },
  {
   "cell_type": "markdown",
   "metadata": {},
   "source": [
    "#### Let's see which are the most used @xxx and replace them with words. Afterward we will delete all the @xxx that will not be replaced"
   ]
  },
  {
   "cell_type": "code",
   "execution_count": 225,
   "metadata": {
    "collapsed": false,
    "scrolled": true
   },
   "outputs": [
    {
     "data": {
      "text/html": [
       "<ol class=list-inline>\n",
       "\t<li>'débat intéressnt encore espoir oublions président président engagé'</li>\n",
       "\t<li>'@googlefr @twitterfrance avez vous bien collectés données bonne nuit'</li>\n",
       "\t<li>'@manuelvalls veux incarner espérance venez voter dimanche'</li>\n",
       "\t<li>'@manuelvalls nous avons besoin europe forte unie'</li>\n",
       "\t<li>'donc @manuelvalls coup penses nous sauver'</li>\n",
       "</ol>\n"
      ],
      "text/latex": [
       "\\begin{enumerate*}\n",
       "\\item 'débat intéressnt encore espoir oublions président président engagé'\n",
       "\\item '@googlefr @twitterfrance avez vous bien collectés données bonne nuit'\n",
       "\\item '@manuelvalls veux incarner espérance venez voter dimanche'\n",
       "\\item '@manuelvalls nous avons besoin europe forte unie'\n",
       "\\item 'donc @manuelvalls coup penses nous sauver'\n",
       "\\end{enumerate*}\n"
      ],
      "text/markdown": [
       "1. 'débat intéressnt encore espoir oublions président président engagé'\n",
       "2. '@googlefr @twitterfrance avez vous bien collectés données bonne nuit'\n",
       "3. '@manuelvalls veux incarner espérance venez voter dimanche'\n",
       "4. '@manuelvalls nous avons besoin europe forte unie'\n",
       "5. 'donc @manuelvalls coup penses nous sauver'\n",
       "\n",
       "\n"
      ],
      "text/plain": [
       "[1] \"débat intéressnt encore espoir oublions président président engagé\"  \n",
       "[2] \"@googlefr @twitterfrance avez vous bien collectés données bonne nuit\"\n",
       "[3] \"@manuelvalls veux incarner espérance venez voter dimanche\"           \n",
       "[4] \"@manuelvalls nous avons besoin europe forte unie\"                    \n",
       "[5] \"donc @manuelvalls coup penses nous sauver\"                           "
      ]
     },
     "metadata": {},
     "output_type": "display_data"
    }
   ],
   "source": [
    "col = tweets$text\n",
    "head(col, n=5)\n",
    "words_list = strsplit(col, \" \")"
   ]
  },
  {
   "cell_type": "code",
   "execution_count": 226,
   "metadata": {
    "collapsed": false
   },
   "outputs": [
    {
     "data": {
      "text/plain": [
       "\n",
       "    @benoithamon       @montebourg      @manuelvalls  @vincent_peillon  \n",
       "              656               599               512               351 \n",
       "     @benoithamon         @fderugy         @francetv   @emmanuelmacron  \n",
       "              329               303               281               255 \n",
       "      @montebourg     @sylviapinel   @vincent_peillon      @manuelvalls \n",
       "              216               199               160                99 \n",
       " @leprojetfrance     @jlbennahmias           @fderugy       @yanngalut  \n",
       "               97                96                67                63 \n",
       "      @leasalame  @realdonaldtrump    @leprojetfrance              @vp_ \n",
       "               60                60                54                49 "
      ]
     },
     "metadata": {},
     "output_type": "display_data"
    }
   ],
   "source": [
    "at.pattern = \"@\\\\w+ *\"\n",
    "have.at = grep(x = col, pattern = at.pattern)\n",
    " \n",
    "at.matches = gregexpr(pattern = at.pattern,\n",
    "                        text = col[have.at])\n",
    "extracted.at = regmatches(x = col[have.at], m = at.matches)\n",
    " \n",
    "#df = data.frame(table(tolower(unlist(extracted.hash))))\n",
    "\n",
    "\n",
    "#words_list_at <- words_list == \"#\\\\w+ *\"\n",
    "# most frequent words\n",
    "mfw = sort(table(unlist(extracted.at)), decreasing=TRUE)\n",
    "\n",
    "# top-20 most frequent\n",
    "top20 = head(mfw, 20)\n",
    "\n",
    "top20"
   ]
  },
  {
   "cell_type": "code",
   "execution_count": 228,
   "metadata": {
    "collapsed": false
   },
   "outputs": [
    {
     "data": {
      "image/png": "[encoded data removed]",
      "text/plain": [
       "Plot with title “Top 20 most frequent @xxx”"
      ]
     },
     "metadata": {},
     "output_type": "display_data"
    }
   ],
   "source": [
    "\n",
    "# barplot\n",
    "barplot(top20, border=NA, las=2, main=\"Top 20 most frequent @xxx\", cex.main=1)\n"
   ]
  },
  {
   "cell_type": "code",
   "execution_count": null,
   "metadata": {
    "collapsed": true
   },
   "outputs": [],
   "source": []
  },
  {
   "cell_type": "code",
   "execution_count": null,
   "metadata": {
    "collapsed": true
   },
   "outputs": [],
   "source": []
  },
  {
   "cell_type": "code",
   "execution_count": null,
   "metadata": {
    "collapsed": true
   },
   "outputs": [],
   "source": []
  }
 ],
 "metadata": {
  "anaconda-cloud": {},
  "kernelspec": {
   "display_name": "R",
   "language": "R",
   "name": "ir"
  },
  "language_info": {
   "codemirror_mode": "r",
   "file_extension": ".r",
   "mimetype": "text/x-r-source",
   "name": "R",
   "pygments_lexer": "r",
   "version": "3.3.2"
  }
 },
 "nbformat": 4,
 "nbformat_minor": 1
}

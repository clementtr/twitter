{
 "cells": [
  {
   "cell_type": "markdown",
   "metadata": {},
   "source": [
    "<p><font size=5 color=\"#210F6E\"><em><u><center>Text Mining and sentiment analysis</center></u></em></font><p>\n",
    "<br>\n",
    "<font size=3 color=\"#2E1698\"><B><u>PARTIE I:</u> Data recover on Twitter </B></font>\n",
    "<br>\n",
    "<br>\n",
    "<font face=\"Gill Sans\" color=\"#261D7A\" size=\"3.2\">First we created an application on dev.twitter called 'TwitterR ESME'</font>"
   ]
  },
  {
   "cell_type": "code",
   "execution_count": 2,
   "metadata": {
    "collapsed": false
   },
   "outputs": [
    {
     "name": "stdout",
     "output_type": "stream",
     "text": [
      "[1] \"Using direct authentication\"\n"
     ]
    }
   ],
   "source": [
    "#install.packages(\"twitteR\")\n",
    "library(twitteR)\n",
    "\n",
    "setwd(\"/Users/clementtailleur/R/TwitteR\")\n",
    "\n",
    "# Create application on dev.twitter.com called 'TwitteR ESME'\n",
    "api_key <- \"QWvyjcma0R6JC2tsdcfrFOzxM\"\n",
    "api_secret <- \"uQ2pKwlaNU89GlhxZ2j4GEpoHs72ZvhNnzSDTV1Fy4inzqer4T\"\n",
    "access_token <- \"1643689316-sCnLf9J7aUse8HNG9bMi2MX5XG2fMbte0eHzqot\"\n",
    "access_token_secret <- \"aFJhot2jA1MCUwbMog0UeVdlO6YVv20SzqIpQ8ooUBqwd\"\n",
    "setup_twitter_oauth(api_key,api_secret,access_token,access_token_secret)"
   ]
  },
  {
   "cell_type": "markdown",
   "metadata": {},
   "source": [
    "<font face=\"Gill Sans\" color=\"#261D7A\" size=\"3.2\">Just to become familiar with twitteR, I decided to recover the last 20 tweets of one of my favorite twitter account and display only the last 10.</font>"
   ]
  },
  {
   "cell_type": "code",
   "execution_count": 40,
   "metadata": {
    "collapsed": false
   },
   "outputs": [
    {
     "name": "stdout",
     "output_type": "stream",
     "text": [
      "Full size: 20"
     ]
    },
    {
     "data": {
      "text/plain": [
       "[[1]]\n",
       "[1] \"WinamaxSport: @totomous oui\"\n",
       "\n",
       "[[2]]\n",
       "[1] \"WinamaxSport: @totomous le support te contactera si ce n'est pas le cas.\"\n",
       "\n",
       "[[3]]\n",
       "[1] \"WinamaxSport: @totomous oui mais il faudra un compte validé pour retirer tes gains.\"\n",
       "\n",
       "[[4]]\n",
       "[1] \"WinamaxSport: @totomous Bonjour, c'est étudié sous 24h. Tu recevras ensuite un courrier avec le code d'activation s'ils sont validés.\"\n",
       "\n",
       "[[5]]\n",
       "[1] \"WinamaxSport: La meilleure défense d’Europe à domicile reçoit Monaco. &gt; https://t.co/4xPI7mbDkJ La victoire de l’OM est à 2,80.… https://t.co/Zs8hUzelRu\"\n",
       "\n",
       "[[6]]\n",
       "[1] \"WinamaxSport: @ZinZin29840 slt. 72h après ton dernier pari.\"\n",
       "\n",
       "[[7]]\n",
       "[1] \"WinamaxSport: @theMax_Pronos @StatssTennis merci de remettre l'église sur la place du village.\"\n",
       "\n",
       "[[8]]\n",
       "[1] \"WinamaxSport: Que sont devenus les joueurs de cet #OMASM de légende ? Sagnol regarde la CAN et Gallardo entraîne River Plate. \\nhttps://t.co/hl6TYjORhz\"\n",
       "\n",
       "[[9]]\n",
       "[1] \"WinamaxSport: Dimitri Payet (FIFA 17) a refusé de s’entraîner. Il veut rejoindre la team de OHFratéOM4EveR, 15 ans. Plus d’infos… https://t.co/1fDMA1g5g0\"\n",
       "\n",
       "[[10]]\n",
       "[1] \"WinamaxSport: @Bob_Edd Bonsoir. Nous allons les ajouter.\"\n"
      ]
     },
     "metadata": {},
     "output_type": "display_data"
    }
   ],
   "source": [
    "Winamax_tweets <- userTimeline(user = \"@WinamaxSport\",\n",
    " n = 20, includeRts = FALSE, retryOnRateLimit = 25)\n",
    "\n",
    "cat(\"Full size:\", length(Winamax_tweets))\n",
    "head(Winamax_tweets, 10)"
   ]
  },
  {
   "cell_type": "markdown",
   "metadata": {},
   "source": [
    "<font face=\"Gill Sans\" color=\"#261D7A\" size=\"3.2\">Now we can get a number n tweets containing the value of string placed in first argument. Note that the Twitter search API only goes back 1500 tweets <br>\n",
    "Let's recover 500 tweets with the hashtag Giroud and create a dataframe based around results.\n",
    "</font>"
   ]
  },
  {
   "cell_type": "code",
   "execution_count": 53,
   "metadata": {
    "collapsed": false
   },
   "outputs": [
    {
     "name": "stdout",
     "output_type": "stream",
     "text": [
      "Columns names:\n",
      " text favorited favoriteCount replyToSN created truncated replyToSID id replyToUID statusSource screenName retweetCount isRetweet retweeted longitude latitude\n",
      "\n",
      "\n",
      "Part of your dataframe:"
     ]
    },
    {
     "data": {
      "text/html": [
       "<table>\n",
       "<thead><tr><th scope=col>text</th><th scope=col>favorited</th><th scope=col>favoriteCount</th><th scope=col>replyToSN</th><th scope=col>created</th><th scope=col>truncated</th><th scope=col>replyToSID</th><th scope=col>id</th><th scope=col>replyToUID</th><th scope=col>statusSource</th><th scope=col>screenName</th><th scope=col>retweetCount</th><th scope=col>isRetweet</th><th scope=col>retweeted</th><th scope=col>longitude</th><th scope=col>latitude</th></tr></thead>\n",
       "<tbody>\n",
       "\t<tr><td>New Offer !! £30 In Free Bets, Bet £10 To Get Yours &amp;gt; https://t.co/PG1frdeJ6A #Spain #Germany #Giroud https://t.co/HTIRiH293y    </td><td>FALSE                                                                                                                                   </td><td>0                                                                                                                                       </td><td>NA                                                                                                                                      </td><td>2017-01-15 20:24:18                                                                                                                     </td><td>FALSE                                                                                                                                   </td><td>NA                                                                                                                                      </td><td>820728338612449282                                                                                                                      </td><td>NA                                                                                                                                      </td><td><span style=white-space:pre-wrap>&lt;a href=\"https://www.socialoomph.com\" rel=\"nofollow\"&gt;SocialOomph&lt;/a&gt;                </span></td><td>Offers_best                                                                                                                             </td><td> 0                                                                                                                                      </td><td>FALSE                                                                                                                                   </td><td>FALSE                                                                                                                                   </td><td>NA                                                                                                                                      </td><td>NA                                                                                                                                      </td></tr>\n",
       "\t<tr><td><span style=white-space:pre-wrap>RT @_EOW_: Take a bow Olivier Giroud, sensational goal.\n",
       "\n",
       "#Giroud #arscry https://t.co/9aRX6PlqGd                              </span></td><td>FALSE                                                                                                                                                                   </td><td>0                                                                                                                                                                       </td><td>NA                                                                                                                                                                      </td><td>2017-01-15 20:09:42                                                                                                                                                     </td><td>FALSE                                                                                                                                                                   </td><td>NA                                                                                                                                                                      </td><td>820724661956788225                                                                                                                                                      </td><td>NA                                                                                                                                                                      </td><td><span style=white-space:pre-wrap>&lt;a href=\"http://twitter.com/download/iphone\" rel=\"nofollow\"&gt;Twitter for iPhone&lt;/a&gt;  </span>                                </td><td>NuclearNadal                                                                                                                                                            </td><td>91                                                                                                                                                                      </td><td> TRUE                                                                                                                                                                   </td><td>FALSE                                                                                                                                                                   </td><td>NA                                                                                                                                                                      </td><td>NA                                                                                                                                                                      </td></tr>\n",
       "\t<tr><td><span style=white-space:pre-wrap>RT @_EOW_: Take a bow Olivier Giroud, sensational goal.\n",
       "\n",
       "#Giroud #arscry https://t.co/9aRX6PlqGd                              </span></td><td>FALSE                                                                                                                                                                   </td><td>0                                                                                                                                                                       </td><td>NA                                                                                                                                                                      </td><td>2017-01-15 19:50:04                                                                                                                                                     </td><td>FALSE                                                                                                                                                                   </td><td>NA                                                                                                                                                                      </td><td>820719720584318976                                                                                                                                                      </td><td>NA                                                                                                                                                                      </td><td>&lt;a href=\"http://twitter.com/download/android\" rel=\"nofollow\"&gt;Twitter for Android&lt;/a&gt;                                                                        </td><td><span style=white-space:pre-wrap>Erhiskobi   </span>                                                                                                                    </td><td>91                                                                                                                                                                      </td><td> TRUE                                                                                                                                                                   </td><td>FALSE                                                                                                                                                                   </td><td>NA                                                                                                                                                                      </td><td>NA                                                                                                                                                                      </td></tr>\n",
       "</tbody>\n",
       "</table>\n"
      ],
      "text/latex": [
       "\\begin{tabular}{r|llllllllllllllll}\n",
       " text & favorited & favoriteCount & replyToSN & created & truncated & replyToSID & id & replyToUID & statusSource & screenName & retweetCount & isRetweet & retweeted & longitude & latitude\\\\\n",
       "\\hline\n",
       "\t New Offer !! £30 In Free Bets, Bet £10 To Get Yours \\&gt; https://t.co/PG1frdeJ6A \\#Spain \\#Germany \\#Giroud https://t.co/HTIRiH293y & FALSE                                                                                                                                    & 0                                                                                                                                        & NA                                                                                                                                       & 2017-01-15 20:24:18                                                                                                                      & FALSE                                                                                                                                    & NA                                                                                                                                       & 820728338612449282                                                                                                                       & NA                                                                                                                                       & <a href=\"https://www.socialoomph.com\" rel=\"nofollow\">SocialOomph</a>                                                                     & Offers\\_best                                                                                                                            &  0                                                                                                                                       & FALSE                                                                                                                                    & FALSE                                                                                                                                    & NA                                                                                                                                       & NA                                                                                                                                      \\\\\n",
       "\t RT @\\_EOW\\_: Take a bow Olivier Giroud, sensational goal.\n",
       "\n",
       "\\#Giroud \\#arscry https://t.co/9aRX6PlqGd                               & FALSE                                                                                                                                    & 0                                                                                                                                        & NA                                                                                                                                       & 2017-01-15 20:09:42                                                                                                                      & FALSE                                                                                                                                    & NA                                                                                                                                       & 820724661956788225                                                                                                                       & NA                                                                                                                                       & <a href=\"http://twitter.com/download/iphone\" rel=\"nofollow\">Twitter for iPhone</a>                                                       & NuclearNadal                                                                                                                             & 91                                                                                                                                       &  TRUE                                                                                                                                    & FALSE                                                                                                                                    & NA                                                                                                                                       & NA                                                                                                                                      \\\\\n",
       "\t RT @\\_EOW\\_: Take a bow Olivier Giroud, sensational goal.\n",
       "\n",
       "\\#Giroud \\#arscry https://t.co/9aRX6PlqGd                               & FALSE                                                                                                                                    & 0                                                                                                                                        & NA                                                                                                                                       & 2017-01-15 19:50:04                                                                                                                      & FALSE                                                                                                                                    & NA                                                                                                                                       & 820719720584318976                                                                                                                       & NA                                                                                                                                       & <a href=\"http://twitter.com/download/android\" rel=\"nofollow\">Twitter for Android</a>                                                     & Erhiskobi                                                                                                                                & 91                                                                                                                                       &  TRUE                                                                                                                                    & FALSE                                                                                                                                    & NA                                                                                                                                       & NA                                                                                                                                      \\\\\n",
       "\\end{tabular}\n"
      ],
      "text/markdown": [
       "\n",
       "text | favorited | favoriteCount | replyToSN | created | truncated | replyToSID | id | replyToUID | statusSource | screenName | retweetCount | isRetweet | retweeted | longitude | latitude | \n",
       "|---|---|---|\n",
       "| New Offer !! £30 In Free Bets, Bet £10 To Get Yours &gt; https://t.co/PG1frdeJ6A #Spain #Germany #Giroud https://t.co/HTIRiH293y | FALSE                                                                                                                            | 0                                                                                                                                | NA                                                                                                                               | 2017-01-15 20:24:18                                                                                                              | FALSE                                                                                                                            | NA                                                                                                                               | 820728338612449282                                                                                                               | NA                                                                                                                               | <a href=\"https://www.socialoomph.com\" rel=\"nofollow\">SocialOomph</a>                                                             | Offers_best                                                                                                                      |  0                                                                                                                               | FALSE                                                                                                                            | FALSE                                                                                                                            | NA                                                                                                                               | NA                                                                                                                               | \n",
       "| RT @_EOW_: Take a bow Olivier Giroud, sensational goal.\n",
       "\n",
       "#Giroud #arscry https://t.co/9aRX6PlqGd                               | FALSE                                                                                                                            | 0                                                                                                                                | NA                                                                                                                               | 2017-01-15 20:09:42                                                                                                              | FALSE                                                                                                                            | NA                                                                                                                               | 820724661956788225                                                                                                               | NA                                                                                                                               | <a href=\"http://twitter.com/download/iphone\" rel=\"nofollow\">Twitter for iPhone</a>                                               | NuclearNadal                                                                                                                     | 91                                                                                                                               |  TRUE                                                                                                                            | FALSE                                                                                                                            | NA                                                                                                                               | NA                                                                                                                               | \n",
       "| RT @_EOW_: Take a bow Olivier Giroud, sensational goal.\n",
       "\n",
       "#Giroud #arscry https://t.co/9aRX6PlqGd                               | FALSE                                                                                                                            | 0                                                                                                                                | NA                                                                                                                               | 2017-01-15 19:50:04                                                                                                              | FALSE                                                                                                                            | NA                                                                                                                               | 820719720584318976                                                                                                               | NA                                                                                                                               | <a href=\"http://twitter.com/download/android\" rel=\"nofollow\">Twitter for Android</a>                                             | Erhiskobi                                                                                                                        | 91                                                                                                                               |  TRUE                                                                                                                            | FALSE                                                                                                                            | NA                                                                                                                               | NA                                                                                                                               | \n",
       "\n",
       "\n"
      ],
      "text/plain": [
       "  text                                                                                                                            \n",
       "1 New Offer !! £30 In Free Bets, Bet £10 To Get Yours &gt; https://t.co/PG1frdeJ6A #Spain #Germany #Giroud https://t.co/HTIRiH293y\n",
       "2 RT @_EOW_: Take a bow Olivier Giroud, sensational goal.\\n\\n#Giroud #arscry https://t.co/9aRX6PlqGd                              \n",
       "3 RT @_EOW_: Take a bow Olivier Giroud, sensational goal.\\n\\n#Giroud #arscry https://t.co/9aRX6PlqGd                              \n",
       "  favorited favoriteCount replyToSN created             truncated replyToSID\n",
       "1 FALSE     0             NA        2017-01-15 20:24:18 FALSE     NA        \n",
       "2 FALSE     0             NA        2017-01-15 20:09:42 FALSE     NA        \n",
       "3 FALSE     0             NA        2017-01-15 19:50:04 FALSE     NA        \n",
       "  id                 replyToUID\n",
       "1 820728338612449282 NA        \n",
       "2 820724661956788225 NA        \n",
       "3 820719720584318976 NA        \n",
       "  statusSource                                                                        \n",
       "1 <a href=\"https://www.socialoomph.com\" rel=\"nofollow\">SocialOomph</a>                \n",
       "2 <a href=\"http://twitter.com/download/iphone\" rel=\"nofollow\">Twitter for iPhone</a>  \n",
       "3 <a href=\"http://twitter.com/download/android\" rel=\"nofollow\">Twitter for Android</a>\n",
       "  screenName   retweetCount isRetweet retweeted longitude latitude\n",
       "1 Offers_best   0           FALSE     FALSE     NA        NA      \n",
       "2 NuclearNadal 91            TRUE     FALSE     NA        NA      \n",
       "3 Erhiskobi    91            TRUE     FALSE     NA        NA      "
      ]
     },
     "metadata": {},
     "output_type": "display_data"
    }
   ],
   "source": [
    "giroudTweets <- searchTwitter('#Giroud', n=500)\n",
    " \n",
    "Giroud_df <- do.call(\"rbind\", lapply(giroudTweets, as.data.frame))\n",
    "cat(\"Columns names:\\n\", names(Giroud_df))\n",
    "cat(\"\\n\\n\\nPart of your dataframe:\")\n",
    "head(Giroud_df,3)"
   ]
  },
  {
   "cell_type": "code",
   "execution_count": null,
   "metadata": {
    "collapsed": true
   },
   "outputs": [],
   "source": []
  }
 ],
 "metadata": {
  "anaconda-cloud": {},
  "kernelspec": {
   "display_name": "R",
   "language": "R",
   "name": "ir"
  },
  "language_info": {
   "codemirror_mode": "r",
   "file_extension": ".r",
   "mimetype": "text/x-r-source",
   "name": "R",
   "pygments_lexer": "r",
   "version": "3.2.4"
  }
 },
 "nbformat": 4,
 "nbformat_minor": 1
}

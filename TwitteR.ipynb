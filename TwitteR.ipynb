{
 "cells": [
  {
   "cell_type": "markdown",
   "metadata": {},
   "source": [
    "<p><font size=5 color=\"#210F6E\"><em><u><center>Text Mining and sentiment analysis</center></u></em></font><p>\n",
    "<br>\n",
    "<font size=3 color=\"#2E1698\"><B><u>PARTIE I:</u> Data recover on Twitter </B></font>\n",
    "<br>\n",
    "<br>\n",
    "<font face=\"Gill Sans\" color=\"#261D7A\" size=\"3.2\">First we created an application on dev.twitter called 'TwitterR ESME'</font>"
   ]
  },
  {
   "cell_type": "code",
   "execution_count": 2,
   "metadata": {
    "collapsed": false
   },
   "outputs": [
    {
     "name": "stdout",
     "output_type": "stream",
     "text": [
      "[1] \"Using direct authentication\"\n"
     ]
    }
   ],
   "source": [
    "#install.packages(\"twitteR\")\n",
    "library(twitteR)\n",
    "\n",
    "setwd(\"/Users/clementtailleur/R/TwitteR\")\n",
    "\n",
    "# Create application on dev.twitter.com called 'TwitteR ESME'\n",
    "api_key <- \"QWvyjcma0R6JC2tsdcfrFOzxM\"\n",
    "api_secret <- \"uQ2pKwlaNU89GlhxZ2j4GEpoHs72ZvhNnzSDTV1Fy4inzqer4T\"\n",
    "access_token <- \"1643689316-sCnLf9J7aUse8HNG9bMi2MX5XG2fMbte0eHzqot\"\n",
    "access_token_secret <- \"aFJhot2jA1MCUwbMog0UeVdlO6YVv20SzqIpQ8ooUBqwd\"\n",
    "setup_twitter_oauth(api_key,api_secret,access_token,access_token_secret)"
   ]
  },
  {
   "cell_type": "markdown",
   "metadata": {},
   "source": [
    "<font face=\"Gill Sans\" color=\"#261D7A\" size=\"3.2\">Just to become familiar with twitteR, I decided to recover the last 20 tweets of one of my favorite twitter account and display only the last 10.</font>"
   ]
  },
  {
   "cell_type": "code",
   "execution_count": 3,
   "metadata": {
    "collapsed": false
   },
   "outputs": [
    {
     "name": "stdout",
     "output_type": "stream",
     "text": [
      "Full size: 20"
     ]
    },
    {
     "data": {
      "text/plain": [
       "[[1]]\n",
       "[1] \"WinamaxSport: @patrick_ducrot @ASSEmemories toutes nos excuses envers l'institution, Pat'\"\n",
       "\n",
       "[[2]]\n",
       "[1] \"WinamaxSport: @mds05p exceptionnel aussi !\"\n",
       "\n",
       "[[3]]\n",
       "[1] \"WinamaxSport: \\\"Le phénomène e-sport prend énormément d'ampleur et c'est une bonne chose.\\\"\\nhttps://t.co/s48hocg5ZC\"\n",
       "\n",
       "[[4]]\n",
       "[1] \"WinamaxSport: Un #CoteKiller de folie par \\\"lamuffe2203\\\" : 81 € sur le score exact de #OMASM ! https://t.co/DFWuCqrNi9\"\n",
       "\n",
       "[[5]]\n",
       "[1] \"WinamaxSport: Finalement, l'OM va plutôt recruter des défenseurs au mercato d'hiver. \\n#OMASM https://t.co/UMWn4ec6A2\"\n",
       "\n",
       "[[6]]\n",
       "[1] \"WinamaxSport: @SikaPronos à plus de 50.\"\n",
       "\n",
       "[[7]]\n",
       "[1] \"WinamaxSport: Les offres du transfert de Bernardo Silva :\\n- Espagne : 50 M€\\n- Premier League : 100 M€\\n- Chine : 350 M€\\n- ASSE : prêt sans option d'achat\"\n",
       "\n",
       "[[8]]\n",
       "[1] \"WinamaxSport: @Azz3lFrench sauf erreur de ma part, tu n'as pas été tiré au sort !\"\n",
       "\n",
       "[[9]]\n",
       "[1] \"WinamaxSport: Dimitri Payet vient d'annoncer qu'il se sent \\\"totalement épanoui à West Ham\\\" et il souhaite \\\"une bonne fin de saison à l'OM\\\". #OMASM\"\n",
       "\n",
       "[[10]]\n",
       "[1] \"WinamaxSport: Lassana Diarra est venu saluer à la pause ses ex-coéquipiers - puis tous les spectateurs en leur demandant une pièce ou deux. #OMASM\"\n"
      ]
     },
     "metadata": {},
     "output_type": "display_data"
    }
   ],
   "source": [
    "Winamax_tweets <- userTimeline(user = \"@WinamaxSport\",\n",
    " n = 20, includeRts = FALSE, retryOnRateLimit = 25)\n",
    "\n",
    "cat(\"Full size:\", length(Winamax_tweets))\n",
    "head(Winamax_tweets, 10)"
   ]
  },
  {
   "cell_type": "markdown",
   "metadata": {},
   "source": [
    "<font face=\"Gill Sans\" color=\"#261D7A\" size=\"3.2\">Now we can get a number n tweets containing the value of string placed in first argument. Note that the Twitter search API only goes back 1500 tweets <br>\n",
    "Let's recover 500 tweets with the 'Arsenal' word and create a dataframe based around results.\n",
    "</font>"
   ]
  },
  {
   "cell_type": "code",
   "execution_count": 4,
   "metadata": {
    "collapsed": false
   },
   "outputs": [
    {
     "name": "stdout",
     "output_type": "stream",
     "text": [
      "Columns names:\n",
      " text favorited favoriteCount replyToSN created truncated replyToSID id replyToUID statusSource screenName retweetCount isRetweet retweeted longitude latitude\n",
      "\n",
      "\n",
      "Part of your dataframe:"
     ]
    }
   ],
   "source": [
    "require(twitteR)\n",
    "arsenalTweets <- searchTwitter(\"Arsenal\", n=500)\n",
    " \n",
    "arsenal_df <- do.call(\"rbind\", lapply(arsenalTweets, as.data.frame))\n",
    "cat(\"Columns names:\\n\", names(arsenal_df))\n",
    "cat(\"\\n\\n\\nPart of your dataframe:\")\n",
    "#head(arsenal_df,3)"
   ]
  },
  {
   "cell_type": "code",
   "execution_count": null,
   "metadata": {
    "collapsed": true
   },
   "outputs": [],
   "source": []
  }
 ],
 "metadata": {
  "anaconda-cloud": {},
  "kernelspec": {
   "display_name": "R",
   "language": "R",
   "name": "ir"
  },
  "language_info": {
   "codemirror_mode": "r",
   "file_extension": ".r",
   "mimetype": "text/x-r-source",
   "name": "R",
   "pygments_lexer": "r",
   "version": "3.2.4"
  }
 },
 "nbformat": 4,
 "nbformat_minor": 1
}

{
 "cells": [
  {
   "cell_type": "markdown",
   "metadata": {},
   "source": [
    "<p><font size=5 color=\"#210F6E\"><em><u><center>Text Mining and sentiment analysis</center></u></em></font><p>\n",
    "<br>\n",
    "<font size=3 color=\"#2E1698\"><B><u>PARTIE I:</u> Data recover on Twitter </B></font>\n",
    "<br>\n",
    "<br>\n",
    "<font face=\"Gill Sans\" color=\"#261D7A\" size=\"3.2\">First we created an application on dev.twitter called 'TwitterR ESME'</font>"
   ]
  },
  {
   "cell_type": "code",
   "execution_count": 2,
   "metadata": {
    "collapsed": false
   },
   "outputs": [
    {
     "name": "stdout",
     "output_type": "stream",
     "text": [
      "[1] \"Using direct authentication\"\n"
     ]
    }
   ],
   "source": [
    "#install.packages(\"twitteR\")\n",
    "library(twitteR)\n",
    "\n",
    "setwd(\"/Users/clementtailleur/R/TwitteR\")\n",
    "\n",
    "# Create application on dev.twitter.com called 'TwitteR ESME'\n",
    "api_key <- \"QWvyjcma0R6JC2tsdcfrFOzxM\"\n",
    "api_secret <- \"uQ2pKwlaNU89GlhxZ2j4GEpoHs72ZvhNnzSDTV1Fy4inzqer4T\"\n",
    "access_token <- \"1643689316-sCnLf9J7aUse8HNG9bMi2MX5XG2fMbte0eHzqot\"\n",
    "access_token_secret <- \"aFJhot2jA1MCUwbMog0UeVdlO6YVv20SzqIpQ8ooUBqwd\"\n",
    "setup_twitter_oauth(api_key,api_secret,access_token,access_token_secret)"
   ]
  },
  {
   "cell_type": "markdown",
   "metadata": {},
   "source": [
    "<font face=\"Gill Sans\" color=\"#261D7A\" size=\"3.2\">Just to become familiar with twitteR, I decided to recover the last 20 tweets of one of my favorite twitter account and display only the last 10.</font>"
   ]
  },
  {
   "cell_type": "code",
   "execution_count": 40,
   "metadata": {
    "collapsed": false
   },
   "outputs": [
    {
     "name": "stdout",
     "output_type": "stream",
     "text": [
      "Full size: 20"
     ]
    },
    {
     "data": {
      "text/plain": [
       "[[1]]\n",
       "[1] \"WinamaxSport: @totomous oui\"\n",
       "\n",
       "[[2]]\n",
       "[1] \"WinamaxSport: @totomous le support te contactera si ce n'est pas le cas.\"\n",
       "\n",
       "[[3]]\n",
       "[1] \"WinamaxSport: @totomous oui mais il faudra un compte validé pour retirer tes gains.\"\n",
       "\n",
       "[[4]]\n",
       "[1] \"WinamaxSport: @totomous Bonjour, c'est étudié sous 24h. Tu recevras ensuite un courrier avec le code d'activation s'ils sont validés.\"\n",
       "\n",
       "[[5]]\n",
       "[1] \"WinamaxSport: La meilleure défense d’Europe à domicile reçoit Monaco. &gt; https://t.co/4xPI7mbDkJ La victoire de l’OM est à 2,80.… https://t.co/Zs8hUzelRu\"\n",
       "\n",
       "[[6]]\n",
       "[1] \"WinamaxSport: @ZinZin29840 slt. 72h après ton dernier pari.\"\n",
       "\n",
       "[[7]]\n",
       "[1] \"WinamaxSport: @theMax_Pronos @StatssTennis merci de remettre l'église sur la place du village.\"\n",
       "\n",
       "[[8]]\n",
       "[1] \"WinamaxSport: Que sont devenus les joueurs de cet #OMASM de légende ? Sagnol regarde la CAN et Gallardo entraîne River Plate. \\nhttps://t.co/hl6TYjORhz\"\n",
       "\n",
       "[[9]]\n",
       "[1] \"WinamaxSport: Dimitri Payet (FIFA 17) a refusé de s’entraîner. Il veut rejoindre la team de OHFratéOM4EveR, 15 ans. Plus d’infos… https://t.co/1fDMA1g5g0\"\n",
       "\n",
       "[[10]]\n",
       "[1] \"WinamaxSport: @Bob_Edd Bonsoir. Nous allons les ajouter.\"\n"
      ]
     },
     "metadata": {},
     "output_type": "display_data"
    }
   ],
   "source": [
    "Winamax_tweets <- userTimeline(user = \"@WinamaxSport\",\n",
    " n = 20, includeRts = FALSE, retryOnRateLimit = 25)\n",
    "\n",
    "cat(\"Full size:\", length(Winamax_tweets))\n",
    "head(Winamax_tweets, 10)"
   ]
  },
  {
   "cell_type": "code",
   "execution_count": null,
   "metadata": {
    "collapsed": true
   },
   "outputs": [],
   "source": []
  }
 ],
 "metadata": {
  "anaconda-cloud": {},
  "kernelspec": {
   "display_name": "R",
   "language": "R",
   "name": "ir"
  },
  "language_info": {
   "codemirror_mode": "r",
   "file_extension": ".r",
   "mimetype": "text/x-r-source",
   "name": "R",
   "pygments_lexer": "r",
   "version": "3.2.4"
  }
 },
 "nbformat": 4,
 "nbformat_minor": 1
}

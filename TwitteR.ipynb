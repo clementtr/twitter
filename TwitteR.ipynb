{
 "cells": [
  {
   "cell_type": "markdown",
   "metadata": {},
   "source": [
    "<p><font size=5 color=\"#210F6E\"><em><u><center>Text Mining and sentiment analysis</center></u></em></font><p>\n",
    "<br>\n",
    "<font size=3 color=\"#2E1698\"><B><u>PARTIE I:</u> Data recover on Twitter </B></font>\n",
    "<br>\n",
    "<br>\n",
    "<font face=\"Gill Sans\" color=\"#261D7A\" size=\"3.2\">First we created an application on dev.twitter called 'TwitterR ESME'</font>"
   ]
  },
  {
   "cell_type": "code",
   "execution_count": null,
   "metadata": {
    "collapsed": false
   },
   "outputs": [],
   "source": [
    "#install.packages(\"twitteR\")\n",
    "library(twitteR)\n",
    "\n",
    "setwd(\"/Users/clementtailleur/R/TwitteR\")\n",
    "\n",
    "# Create application on dev.twitter.com called 'TwitteR ESME'\n",
    "api_key <- \"QWvyjcma0R6JC2tsdcfrFOzxM\"\n",
    "api_secret <- \"uQ2pKwlaNU89GlhxZ2j4GEpoHs72ZvhNnzSDTV1Fy4inzqer4T\"\n",
    "access_token <- \"1643689316-sCnLf9J7aUse8HNG9bMi2MX5XG2fMbte0eHzqot\"\n",
    "access_token_secret <- \"aFJhot2jA1MCUwbMog0UeVdlO6YVv20SzqIpQ8ooUBqwd\"\n",
    "setup_twitter_oauth(api_key,api_secret,access_token,access_token_secret)"
   ]
  },
  {
   "cell_type": "markdown",
   "metadata": {},
   "source": [
    "<font face=\"Gill Sans\" color=\"#261D7A\" size=\"3.2\">Just to become familiar with twitteR, I decided to recover the last 20 tweets of one of my favorite twitter account and display only the last 10.</font>"
   ]
  },
  {
   "cell_type": "code",
   "execution_count": null,
   "metadata": {
    "collapsed": false
   },
   "outputs": [],
   "source": [
    "Winamax_tweets <- userTimeline(user = \"@WinamaxSport\",\n",
    " n = 20, includeRts = FALSE, retryOnRateLimit = 25)\n",
    "\n",
    "cat(\"Full size:\", length(Winamax_tweets))\n",
    "head(Winamax_tweets, 10)"
   ]
  },
  {
   "cell_type": "markdown",
   "metadata": {},
   "source": [
    "<font face=\"Gill Sans\" color=\"#261D7A\" size=\"3.2\">Now we can get a number n tweets containing the value of string placed in first argument. Note that the Twitter search API only goes back 1500 tweets <br>\n",
    "Let's recover 500 tweets with the 'Arsenal' word and create a dataframe based around results.\n",
    "</font>"
   ]
  },
  {
   "cell_type": "code",
   "execution_count": null,
   "metadata": {
    "collapsed": false
   },
   "outputs": [],
   "source": [
    "require(twitteR)\n",
    "arsenalTweets <- searchTwitter(\"Arsenal\", n=500)\n",
    " \n",
    "arsenal_df <- do.call(\"rbind\", lapply(arsenalTweets, as.data.frame))\n",
    "cat(\"Columns names:\\n\", names(arsenal_df))\n",
    "cat(\"\\n\\n\\nPart of your dataframe:\")\n",
    "#head(arsenal_df,3)"
   ]
  },
  {
   "cell_type": "code",
   "execution_count": null,
   "metadata": {
    "collapsed": false
   },
   "outputs": [],
   "source": [
    "#write.csv(arsenal_df, file = \"arsenal.csv\", append=TRUE) #append=TRUE to overwrite\n",
    "write.csv(arsenal_df, file = \"arsenal.csv\")"
   ]
  }
 ],
 "metadata": {
  "anaconda-cloud": {},
  "kernelspec": {
   "display_name": "R",
   "language": "R",
   "name": "ir"
  },
  "language_info": {
   "codemirror_mode": "r",
   "file_extension": ".r",
   "mimetype": "text/x-r-source",
   "name": "R",
   "pygments_lexer": "r",
   "version": "3.2.4"
  }
 },
 "nbformat": 4,
 "nbformat_minor": 1
}
